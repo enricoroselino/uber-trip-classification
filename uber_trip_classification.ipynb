{
 "cells": [
  {
   "cell_type": "markdown",
   "metadata": {},
   "source": [
    "# Uber Trip Classification\n",
    "\n",
    "Tujuan :\n",
    "* Membuat model yang dapat memprediksi apabila terjadi kesalahan dalam pencatatan data perjalanan Uber.\n",
    "\n",
    "Masalah :\n",
    "* Tidak ada kolom label untuk menjadi target.\n",
    "* Data tanggal tidak ada notasi AM / PM.\n",
    "\n",
    "Landasan Teori :\n",
    "* Dengan asumsi batas kecepatan di kawasan perkotaan adalah 50 km/jam, kawasan permukiman adalah 30 km/jam, kawasan jalanan antar kota paling rendah adalah 60 km/jam dan dalam kota paling cepat adalah 80 km/jam. ([Kumparan](https://kumparan.com/info-otomotif/batas-kecepatan-untuk-dalam-kota-begini-aturannya-1xvq35hLvXP/3), [Otomotif Kompas](https://otomotif.kompas.com/read/2022/06/20/191100215/batas-kecepatan-berkendara-di-jalan-tol-tidak-semua-sama))\n",
    "* Waktu tunggu maksimal adalah 5 menit. ([therideshareguy](https://therideshareguy.com/uber-extends-wait-time/))\n",
    "\n",
    "\n",
    "Label Feature Description :\n",
    "* 0 = Trip not valid\n",
    "* 1 = Trip valid"
   ]
  },
  {
   "cell_type": "markdown",
   "metadata": {},
   "source": [
    "## Import Libs"
   ]
  },
  {
   "cell_type": "code",
   "execution_count": 1,
   "metadata": {},
   "outputs": [],
   "source": [
    "import pandas as pd\n",
    "import os\n",
    "from datetime import date, datetime\n",
    "import matplotlib.pyplot as plt\n",
    "%matplotlib inline\n",
    "import seaborn as sns\n",
    "sns.set()\n",
    "from geopy.distance import distance\n",
    "import math\n",
    "import re"
   ]
  },
  {
   "cell_type": "markdown",
   "metadata": {},
   "source": [
    "## Load Data"
   ]
  },
  {
   "cell_type": "code",
   "execution_count": 2,
   "metadata": {},
   "outputs": [],
   "source": [
    "bog_path = os.path.join(\"dataset\", \"bog_clean.csv\")\n",
    "mex_path = os.path.join(\"dataset\", \"mex_clean.csv\")\n",
    "uio_path = os.path.join(\"dataset\", \"uio_clean.csv\")"
   ]
  },
  {
   "cell_type": "code",
   "execution_count": 3,
   "metadata": {},
   "outputs": [],
   "source": [
    "bog_df = pd.read_csv(bog_path)\n",
    "mex_df = pd.read_csv(mex_path)\n",
    "uio_df = pd.read_csv(uio_path)"
   ]
  },
  {
   "cell_type": "markdown",
   "metadata": {},
   "source": [
    "## Explore Data"
   ]
  },
  {
   "cell_type": "code",
   "execution_count": 4,
   "metadata": {},
   "outputs": [
    {
     "name": "stdout",
     "output_type": "stream",
     "text": [
      "(3063, 12)\n",
      "(12694, 12)\n",
      "(32366, 12)\n"
     ]
    }
   ],
   "source": [
    "print(bog_df.shape)\n",
    "print(mex_df.shape)\n",
    "print(uio_df.shape)"
   ]
  },
  {
   "cell_type": "code",
   "execution_count": 5,
   "metadata": {},
   "outputs": [
    {
     "name": "stdout",
     "output_type": "stream",
     "text": [
      "id : 3063\n",
      "vendor_id : 5\n",
      "store_and_fwd_flag : 1\n"
     ]
    }
   ],
   "source": [
    "# check bog unique value\n",
    "for i in bog_df[[\"id\", \"vendor_id\", \"store_and_fwd_flag\"]] :\n",
    "    print(f\"{i} : {bog_df[i].nunique()}\")"
   ]
  },
  {
   "cell_type": "code",
   "execution_count": 6,
   "metadata": {},
   "outputs": [
    {
     "name": "stdout",
     "output_type": "stream",
     "text": [
      "id : 12694\n",
      "vendor_id : 7\n",
      "store_and_fwd_flag : 1\n"
     ]
    }
   ],
   "source": [
    "# check mex unique value\n",
    "for i in mex_df[[\"id\", \"vendor_id\", \"store_and_fwd_flag\"]] :\n",
    "    print(f\"{i} : {mex_df[i].nunique()}\")"
   ]
  },
  {
   "cell_type": "code",
   "execution_count": 7,
   "metadata": {},
   "outputs": [
    {
     "name": "stdout",
     "output_type": "stream",
     "text": [
      "id : 32366\n",
      "vendor_id : 4\n",
      "store_and_fwd_flag : 1\n"
     ]
    }
   ],
   "source": [
    "# check uio unique value\n",
    "for i in uio_df[[\"id\", \"vendor_id\", \"store_and_fwd_flag\"]] :\n",
    "    print(f\"{i} : {uio_df[i].nunique()}\")"
   ]
  },
  {
   "cell_type": "markdown",
   "metadata": {},
   "source": [
    "Dapat disimpulkan bahwa tidak ada dupilkat dari kolom `id`, `store_and_fwd_flag` hanya memiliki satu nilai unik dan `datetime` masih dalam tipe data objek pada setiap dataset"
   ]
  },
  {
   "cell_type": "code",
   "execution_count": 8,
   "metadata": {},
   "outputs": [],
   "source": [
    "uber_df = pd.concat([bog_df, mex_df, uio_df], ignore_index=True)"
   ]
  },
  {
   "cell_type": "code",
   "execution_count": 9,
   "metadata": {},
   "outputs": [],
   "source": [
    "uber_df = uber_df.drop([\"id\", \"store_and_fwd_flag\"], axis=1)"
   ]
  },
  {
   "cell_type": "code",
   "execution_count": 10,
   "metadata": {},
   "outputs": [
    {
     "data": {
      "text/html": [
       "<div>\n",
       "<style scoped>\n",
       "    .dataframe tbody tr th:only-of-type {\n",
       "        vertical-align: middle;\n",
       "    }\n",
       "\n",
       "    .dataframe tbody tr th {\n",
       "        vertical-align: top;\n",
       "    }\n",
       "\n",
       "    .dataframe thead th {\n",
       "        text-align: right;\n",
       "    }\n",
       "</style>\n",
       "<table border=\"1\" class=\"dataframe\">\n",
       "  <thead>\n",
       "    <tr style=\"text-align: right;\">\n",
       "      <th></th>\n",
       "      <th>count</th>\n",
       "      <th>mean</th>\n",
       "      <th>std</th>\n",
       "      <th>min</th>\n",
       "      <th>25%</th>\n",
       "      <th>50%</th>\n",
       "      <th>75%</th>\n",
       "      <th>max</th>\n",
       "    </tr>\n",
       "  </thead>\n",
       "  <tbody>\n",
       "    <tr>\n",
       "      <th>pickup_longitude</th>\n",
       "      <td>48123.0</td>\n",
       "      <td>-8.365820e+01</td>\n",
       "      <td>9.327967e+00</td>\n",
       "      <td>-1.089851e+02</td>\n",
       "      <td>-99.055060</td>\n",
       "      <td>-78.499710</td>\n",
       "      <td>-78.477681</td>\n",
       "      <td>-7.382972e+01</td>\n",
       "    </tr>\n",
       "    <tr>\n",
       "      <th>pickup_latitude</th>\n",
       "      <td>48123.0</td>\n",
       "      <td>5.283597e+00</td>\n",
       "      <td>8.522385e+00</td>\n",
       "      <td>-3.454279e+00</td>\n",
       "      <td>-0.198366</td>\n",
       "      <td>-0.149986</td>\n",
       "      <td>19.281108</td>\n",
       "      <td>2.575296e+01</td>\n",
       "    </tr>\n",
       "    <tr>\n",
       "      <th>dropoff_longitude</th>\n",
       "      <td>48123.0</td>\n",
       "      <td>-8.365799e+01</td>\n",
       "      <td>9.326627e+00</td>\n",
       "      <td>-1.089874e+02</td>\n",
       "      <td>-99.040406</td>\n",
       "      <td>-78.498237</td>\n",
       "      <td>-78.479051</td>\n",
       "      <td>-7.361570e+01</td>\n",
       "    </tr>\n",
       "    <tr>\n",
       "      <th>dropoff_latitude</th>\n",
       "      <td>48123.0</td>\n",
       "      <td>5.282378e+00</td>\n",
       "      <td>8.524195e+00</td>\n",
       "      <td>-3.574739e+00</td>\n",
       "      <td>-0.201981</td>\n",
       "      <td>-0.151495</td>\n",
       "      <td>19.279311</td>\n",
       "      <td>2.578106e+01</td>\n",
       "    </tr>\n",
       "    <tr>\n",
       "      <th>trip_duration</th>\n",
       "      <td>48123.0</td>\n",
       "      <td>3.981179e+04</td>\n",
       "      <td>5.155872e+05</td>\n",
       "      <td>-3.887110e+05</td>\n",
       "      <td>497.000000</td>\n",
       "      <td>944.000000</td>\n",
       "      <td>1947.500000</td>\n",
       "      <td>7.002605e+07</td>\n",
       "    </tr>\n",
       "    <tr>\n",
       "      <th>dist_meters</th>\n",
       "      <td>48123.0</td>\n",
       "      <td>-3.774470e+04</td>\n",
       "      <td>1.695578e+07</td>\n",
       "      <td>-2.147484e+09</td>\n",
       "      <td>2032.000000</td>\n",
       "      <td>4133.000000</td>\n",
       "      <td>7880.000000</td>\n",
       "      <td>2.147484e+09</td>\n",
       "    </tr>\n",
       "    <tr>\n",
       "      <th>wait_sec</th>\n",
       "      <td>48123.0</td>\n",
       "      <td>1.519156e+07</td>\n",
       "      <td>6.005287e+08</td>\n",
       "      <td>0.000000e+00</td>\n",
       "      <td>101.000000</td>\n",
       "      <td>244.000000</td>\n",
       "      <td>534.000000</td>\n",
       "      <td>9.516306e+10</td>\n",
       "    </tr>\n",
       "  </tbody>\n",
       "</table>\n",
       "</div>"
      ],
      "text/plain": [
       "                     count          mean           std           min  \\\n",
       "pickup_longitude   48123.0 -8.365820e+01  9.327967e+00 -1.089851e+02   \n",
       "pickup_latitude    48123.0  5.283597e+00  8.522385e+00 -3.454279e+00   \n",
       "dropoff_longitude  48123.0 -8.365799e+01  9.326627e+00 -1.089874e+02   \n",
       "dropoff_latitude   48123.0  5.282378e+00  8.524195e+00 -3.574739e+00   \n",
       "trip_duration      48123.0  3.981179e+04  5.155872e+05 -3.887110e+05   \n",
       "dist_meters        48123.0 -3.774470e+04  1.695578e+07 -2.147484e+09   \n",
       "wait_sec           48123.0  1.519156e+07  6.005287e+08  0.000000e+00   \n",
       "\n",
       "                           25%          50%          75%           max  \n",
       "pickup_longitude    -99.055060   -78.499710   -78.477681 -7.382972e+01  \n",
       "pickup_latitude      -0.198366    -0.149986    19.281108  2.575296e+01  \n",
       "dropoff_longitude   -99.040406   -78.498237   -78.479051 -7.361570e+01  \n",
       "dropoff_latitude     -0.201981    -0.151495    19.279311  2.578106e+01  \n",
       "trip_duration       497.000000   944.000000  1947.500000  7.002605e+07  \n",
       "dist_meters        2032.000000  4133.000000  7880.000000  2.147484e+09  \n",
       "wait_sec            101.000000   244.000000   534.000000  9.516306e+10  "
      ]
     },
     "execution_count": 10,
     "metadata": {},
     "output_type": "execute_result"
    }
   ],
   "source": [
    "uber_df.describe().T"
   ]
  },
  {
   "cell_type": "markdown",
   "metadata": {},
   "source": [
    "Terdapat nilai yang tidak realistis minimal dan maksimal pada `trip_duration`, `dist_meters`, dan `wait_sec\t`"
   ]
  },
  {
   "cell_type": "markdown",
   "metadata": {},
   "source": [
    "### Visualisasi Data\n",
    "\n",
    "Membuat visualisasi untuk menjelaskan sebaran data yang tidak realistis / bermasalah"
   ]
  },
  {
   "cell_type": "code",
   "execution_count": 11,
   "metadata": {},
   "outputs": [
    {
     "data": {
      "image/png": "[encoded data removed]",
      "text/plain": [
       "<Figure size 648x504 with 1 Axes>"
      ]
     },
     "metadata": {},
     "output_type": "display_data"
    }
   ],
   "source": [
    "plt.figure(figsize=(9, 7))\n",
    "sns.scatterplot(\n",
    "    data=uber_df,\n",
    "    x=uber_df.dist_meters/1000,\n",
    "    y=uber_df.trip_duration/3600,\n",
    "    s=100,\n",
    "    alpha=0.85\n",
    ")\n",
    "\n",
    "plt.title(\"Durasi vs Jarak Tempuh Trip\",\n",
    "    loc=\"right\",\n",
    "    fontweight=\"bold\",\n",
    "    size=15\n",
    ")\n",
    "\n",
    "plt.xlabel(\"KM\")\n",
    "plt.ylabel(\"jam\")\n",
    "plt.show()"
   ]
  },
  {
   "cell_type": "markdown",
   "metadata": {},
   "source": [
    "Waktu dan jarak tempuh seharusnya tidak ada yang negatif, waktu tempuh paling lama adalah 1.94e+4 jam, serta jarak tempuh paling lama adalah 2.15e+6 KM."
   ]
  },
  {
   "cell_type": "code",
   "execution_count": 12,
   "metadata": {},
   "outputs": [
    {
     "data": {
      "image/png": "[encoded data removed]",
      "text/plain": [
       "<Figure size 648x504 with 1 Axes>"
      ]
     },
     "metadata": {},
     "output_type": "display_data"
    }
   ],
   "source": [
    "plt.figure(figsize=(9, 7))\n",
    "sns.violinplot(x=uber_df[\"wait_sec\"]/3600)\n",
    "\n",
    "plt.title(\n",
    "    \"Distribusi Waktu Tunggu Driver\",\n",
    "    loc=\"right\",\n",
    "    fontweight=\"bold\",\n",
    "    size=15\n",
    ")\n",
    "plt.xlabel(\"jam\")\n",
    "plt.show()"
   ]
  },
  {
   "cell_type": "markdown",
   "metadata": {},
   "source": [
    "Waktu driver menunggu penumpang juga terlampau lama yaitu 2.6e+7 jam"
   ]
  },
  {
   "cell_type": "code",
   "execution_count": 13,
   "metadata": {},
   "outputs": [
    {
     "data": {
      "text/plain": [
       "count    4.812300e+04\n",
       "mean    -2.554891e+02\n",
       "std      7.592147e+04\n",
       "min     -1.498244e+07\n",
       "25%      9.437383e+00\n",
       "50%      1.642021e+01\n",
       "75%      2.272778e+01\n",
       "max      5.942307e+06\n",
       "dtype: float64"
      ]
     },
     "execution_count": 13,
     "metadata": {},
     "output_type": "execute_result"
    }
   ],
   "source": [
    "# calculate speed in km/h\n",
    "speed_kmph = (uber_df[\"dist_meters\"] / 1000) / (uber_df[\"trip_duration\"] / 3600)\n",
    "speed_kmph.describe()"
   ]
  },
  {
   "cell_type": "code",
   "execution_count": 14,
   "metadata": {},
   "outputs": [
    {
     "data": {
      "image/png": "[encoded data removed]",
      "text/plain": [
       "<Figure size 648x504 with 1 Axes>"
      ]
     },
     "metadata": {},
     "output_type": "display_data"
    }
   ],
   "source": [
    "# plot kmph distribution\n",
    "plt.figure(figsize=(9, 7))\n",
    "sns.violinplot(x=speed_kmph)\n",
    "\n",
    "plt.title(\n",
    "    \"Distribusi Kecepatan Rata-Rata Trip\",\n",
    "    loc=\"right\",\n",
    "    fontweight=\"bold\",\n",
    "    size=15\n",
    ")\n",
    "plt.xlabel(\"km / jam\")\n",
    "plt.show()"
   ]
  },
  {
   "cell_type": "markdown",
   "metadata": {},
   "source": [
    "Kecepatan kendaraan juga terdapat data negatif dan yang paling cepat adalah 5.94e+06"
   ]
  },
  {
   "cell_type": "code",
   "execution_count": 15,
   "metadata": {},
   "outputs": [],
   "source": [
    "# mengubah format date and time\n",
    "uber_df[\"pickup_datetime\"] = pd.to_datetime(uber_df[\"pickup_datetime\"], format=\"%Y/%m/%d %H:%M:%S\")\n",
    "uber_df[\"dropoff_datetime\"] = pd.to_datetime(uber_df[\"dropoff_datetime\"], format=\"%Y/%m/%d %H:%M:%S\")"
   ]
  },
  {
   "cell_type": "code",
   "execution_count": 16,
   "metadata": {},
   "outputs": [
    {
     "name": "stdout",
     "output_type": "stream",
     "text": [
      "pickup & dropoff maximum time is 12:59:59 12:59:59\n",
      "pickup & dropoff minimum time is 01:00:01 01:00:01\n"
     ]
    }
   ],
   "source": [
    "# check max and minimum time\n",
    "print(\"pickup & dropoff maximum time is {} {}\".format(\n",
    "    uber_df[\"pickup_datetime\"].dt.time.max(), \n",
    "    uber_df[\"dropoff_datetime\"].dt.time.max())\n",
    ")\n",
    "\n",
    "print(\"pickup & dropoff minimum time is {} {}\".format(\n",
    "    uber_df[\"pickup_datetime\"].dt.time.min(), \n",
    "    uber_df[\"dropoff_datetime\"].dt.time.min())\n",
    ")"
   ]
  },
  {
   "cell_type": "markdown",
   "metadata": {},
   "source": [
    "Waktu perjalanan saat diterima dan selesai tidak dalam format 24H serta tidak terdapat notasi AM / PM "
   ]
  },
  {
   "cell_type": "markdown",
   "metadata": {},
   "source": [
    "## CLEANING, PREPROCESSING, FEATURE ENGINEERING"
   ]
  },
  {
   "cell_type": "markdown",
   "metadata": {},
   "source": [
    "### *_datetime\n",
    "Menghilangkan time dari tanggal untuk menghindari kesalahan dalam kalkulasi"
   ]
  },
  {
   "cell_type": "code",
   "execution_count": 17,
   "metadata": {},
   "outputs": [],
   "source": [
    "uber_df[\"pickup_date\"] = pd.to_datetime(uber_df[\"pickup_datetime\"]).dt.date\n",
    "uber_df[\"dropoff_date\"] = pd.to_datetime(uber_df[\"dropoff_datetime\"]).dt.date\n",
    "uber_df = uber_df.drop([\"pickup_datetime\", \"dropoff_datetime\"], axis=1)"
   ]
  },
  {
   "cell_type": "markdown",
   "metadata": {},
   "source": [
    "Menghitung lama perjalanan berdasarkan hari"
   ]
  },
  {
   "cell_type": "code",
   "execution_count": 18,
   "metadata": {},
   "outputs": [],
   "source": [
    "def day_delta(df) :\n",
    "    day = []\n",
    "    for i in range(len(df)) :\n",
    "        delta = (df.dropoff_date[i] - df.pickup_date[i]).days\n",
    "        day.append(int(delta))\n",
    "    return day"
   ]
  },
  {
   "cell_type": "code",
   "execution_count": 19,
   "metadata": {},
   "outputs": [],
   "source": [
    "uber_df[\"day_delta\"] = day_delta(uber_df)"
   ]
  },
  {
   "cell_type": "code",
   "execution_count": 20,
   "metadata": {},
   "outputs": [],
   "source": [
    "uber_df = uber_df.drop([\"pickup_date\", \"dropoff_date\"], axis=1)"
   ]
  },
  {
   "cell_type": "markdown",
   "metadata": {},
   "source": [
    "### dist_meters\n",
    "Membuat estimasi jarak sesungguhnya"
   ]
  },
  {
   "cell_type": "code",
   "execution_count": 21,
   "metadata": {},
   "outputs": [],
   "source": [
    "def geodesic(p_lon, p_lat, d_lon, d_lat) :\n",
    "    # calculate distance using geodesic method\n",
    "    # COEF is a coeficient for calibrating the geodesic result to nearly matches OSRM driving distance\n",
    "    # distance in meters\n",
    "    COEF = 1.5165\n",
    "    pickup = (p_lat, p_lon)\n",
    "    dropoff = (d_lat, d_lon)\n",
    "    result = distance(pickup, dropoff).km\n",
    "    return result * COEF * 1000\n",
    "\n",
    "def distance_estimator(df) :\n",
    "    # calculate the duration then append to est_duration\n",
    "    # using geodesic\n",
    "    # name the estimated distance to est_meters\n",
    "    distance = []\n",
    "    for i in range(len(df)) :\n",
    "        PICKUP_LONG = df.pickup_longitude[i]\n",
    "        PICKUP_LAT = df.pickup_latitude[i]\n",
    "        DROPOFF_LONG = df.dropoff_longitude[i]\n",
    "        DROPOFF_LAT = df.dropoff_latitude[i]\n",
    "        result = geodesic(PICKUP_LONG, PICKUP_LAT, DROPOFF_LONG, DROPOFF_LAT)\n",
    "        distance.append(math.ceil(result))\n",
    "    return distance"
   ]
  },
  {
   "cell_type": "code",
   "execution_count": 22,
   "metadata": {},
   "outputs": [],
   "source": [
    "uber_df[\"est_meters\"] = distance_estimator(uber_df)"
   ]
  },
  {
   "cell_type": "code",
   "execution_count": 23,
   "metadata": {},
   "outputs": [],
   "source": [
    "uber_df = uber_df.drop([\"pickup_longitude\", \"pickup_latitude\", \"dropoff_longitude\", \"dropoff_latitude\"], axis=1)"
   ]
  },
  {
   "cell_type": "markdown",
   "metadata": {},
   "source": [
    "### trip_duration\n",
    "Membuat estimasi durasi perjalanan sesungguhnya\n"
   ]
  },
  {
   "cell_type": "code",
   "execution_count": 24,
   "metadata": {},
   "outputs": [],
   "source": [
    "def duration_estimator(df) :\n",
    "    # rata-rata kecepatan 40 km/h\n",
    "    time = []\n",
    "    v = 40 * (1000/3600) # average speed in m/s\n",
    "    for i in range(len(df)) :\n",
    "        d = df.est_meters[i]\n",
    "        t = d / v # time travel in seconds\n",
    "        time.append(math.ceil(t))\n",
    "    return time"
   ]
  },
  {
   "cell_type": "code",
   "execution_count": 25,
   "metadata": {},
   "outputs": [],
   "source": [
    "uber_df[\"est_duration\"] = duration_estimator(uber_df)"
   ]
  },
  {
   "cell_type": "markdown",
   "metadata": {},
   "source": [
    "### vendor_id\n",
    "Menetapkan tipe layanan uber"
   ]
  },
  {
   "cell_type": "code",
   "execution_count": 26,
   "metadata": {},
   "outputs": [
    {
     "data": {
      "text/plain": [
       "array(['Bogotá', 'Bogotá UberX', 'Bogota UberBlack', 'Bogotá UberVan',\n",
       "       'Bogotá UberAngel', 'México DF Taxi de Sitio',\n",
       "       'México DF Taxi Libre', 'México DF Radio Taxi', 'México DF UberX',\n",
       "       'México DF UberXL', 'México DF UberSUV', 'México DF UberBlack',\n",
       "       'Quito', 'Quito Cabify Lite', 'Quito Cabify Executive',\n",
       "       'Quito UberX'], dtype=object)"
      ]
     },
     "execution_count": 26,
     "metadata": {},
     "output_type": "execute_result"
    }
   ],
   "source": [
    "uber_df[\"vendor_id\"].unique()"
   ]
  },
  {
   "cell_type": "markdown",
   "metadata": {},
   "source": [
    "Terdapat beberapa nama layanan yang tidak tersedia pada laman website uber akan dijadikan taxi dan sisanya akan disesuaikan dengan layanan ekivalennya"
   ]
  },
  {
   "cell_type": "code",
   "execution_count": 27,
   "metadata": {},
   "outputs": [],
   "source": [
    "def services_extractor(df) :\n",
    "    # extract services name from vendor_id and map the services based in 2022\n",
    "    # some normal services is not available in 2022, it'll be taxi service instead\n",
    "    # uberangel is exclusive to colombia, it'll be uberblack service instead\n",
    "    # ubersuv will be uberxl\n",
    "    SERVICE_NAME = re.compile(\n",
    "        r\"taxi|uberxl|uberx|uberblack|ubervan|uberangel|ubersuv\"\n",
    "    )\n",
    "    df[\"vendor_id\"] = df[\"vendor_id\"].str.lower()\n",
    "    service = []\n",
    "    for i in range(len(df)) :\n",
    "        extract = SERVICE_NAME.search(df.vendor_id[i])\n",
    "        if extract != None :\n",
    "            ext_group = extract.group()\n",
    "            if (ext_group  == \"ubervan\") or (ext_group == \"ubersuv\"):\n",
    "                service.append(\"uberxl\")\n",
    "            elif ext_group == \"uberangel\" :\n",
    "                service.append(\"uberblack\")\n",
    "            else : \n",
    "                service.append(ext_group)\n",
    "        else :\n",
    "            service.append(\"taxi\")\n",
    "    return service"
   ]
  },
  {
   "cell_type": "code",
   "execution_count": 28,
   "metadata": {},
   "outputs": [],
   "source": [
    "uber_df[\"service\"] = services_extractor(uber_df)"
   ]
  },
  {
   "cell_type": "code",
   "execution_count": 29,
   "metadata": {},
   "outputs": [
    {
     "data": {
      "text/plain": [
       "array(['taxi', 'uberx', 'uberblack', 'uberxl'], dtype=object)"
      ]
     },
     "execution_count": 29,
     "metadata": {},
     "output_type": "execute_result"
    }
   ],
   "source": [
    "uber_df[\"service\"].unique()"
   ]
  },
  {
   "cell_type": "code",
   "execution_count": 30,
   "metadata": {},
   "outputs": [],
   "source": [
    "uber_df = uber_df.drop(\"vendor_id\", axis=1)"
   ]
  },
  {
   "cell_type": "markdown",
   "metadata": {},
   "source": [
    "## DEFINE TARGET VARIABLE / LABELING"
   ]
  },
  {
   "cell_type": "markdown",
   "metadata": {},
   "source": [
    "Dalam project Uber Trip Classification bertujuan untuk melakukan prediksi terhadap kesalahan aplikasi saat menyimpan data perjalanan yang diakibatkan driver lupa mengakhiri perjalanan pada aplikasi, dan mengakibatkan kesalahan dalam penagihan harga kepada customer.\n",
    "\n",
    "Variabel `est_meters`, `est_duration` dapat dijadikan pembanding kebenaran terhadap variabel `dist_meters` dan `trip_duration` yang terdapat kesalahan dalam peyimpanan.\n",
    "\n",
    "Perbandingan menggunakan batas atas dan batas bawah yang terdiri dari toleransi perjalanan lebih lama atau lebih cepat yang diakibatkan oleh kecepatan mobil dan keadaan lalu lintas yang tidak menentu, batas waktu driver menunggu adalah 5 menit, minimal jarak perjalanan yang dianggap valid adalah 1 KM, serta perjalanan yang terhitung 1 hari mungkin valid apabila terjadi sekitar tengah malam, tetapi >= 2 hari sudah pasti tidak valid."
   ]
  },
  {
   "cell_type": "code",
   "execution_count": 40,
   "metadata": {},
   "outputs": [],
   "source": [
    "def labeler(df) :\n",
    "    label = []\n",
    "    DIST_MIN = 1000\n",
    "    WT = 5 * 60\n",
    "    for i in range(len(df)) :\n",
    "        DLB = df.est_meters[i] * 0.8 # might be closer\n",
    "        DHB = df.est_meters[i] * 1.5 # might be further\n",
    "        TLB = df.est_duration[i] * 0.6667 # might be faster (~ 40 km/h - 60 km/h)\n",
    "        THB = df.est_duration[i] * 4 * 1.5 # might be slower (~ 10 km/h - 40 km/h) and 50% longer\n",
    "        DD = df.day_delta[i]\n",
    "        if DD > 1 :\n",
    "            label.append(0)\n",
    "        elif (df.est_meters[i] < DIST_MIN) or (df.wait_sec[i] > WT): \n",
    "            label.append(0)\n",
    "        elif (df.dist_meters[i] > DLB) and (df.dist_meters[i] < DHB) :\n",
    "            if (df.trip_duration[i] > TLB) and (df.trip_duration[i] < THB) :\n",
    "                label.append(1)\n",
    "            else :\n",
    "                label.append(0)\n",
    "        else :\n",
    "            label.append(0)\n",
    "    return label"
   ]
  },
  {
   "cell_type": "code",
   "execution_count": 41,
   "metadata": {},
   "outputs": [],
   "source": [
    "uber_df[\"label\"] = labeler(uber_df)"
   ]
  },
  {
   "cell_type": "code",
   "execution_count": 42,
   "metadata": {},
   "outputs": [
    {
     "name": "stdout",
     "output_type": "stream",
     "text": [
      "label 0 : 35348\n",
      "label 1 : 12775\n"
     ]
    }
   ],
   "source": [
    "for i in range(uber_df[\"label\"].nunique()) :\n",
    "    print(\"label {} : {}\".format(i, list(uber_df[\"label\"].values).count(i)))"
   ]
  },
  {
   "cell_type": "code",
   "execution_count": null,
   "metadata": {},
   "outputs": [],
   "source": [
    "uber_df = uber_df.drop([\"est_meters\", \"est_duration\"], axis=1)"
   ]
  },
  {
   "cell_type": "markdown",
   "metadata": {},
   "source": [
    "### Re-check Labeling Logic Reliability\n",
    "Cek kembali apakah hasil dari labeling sudah sesuai dengan landasan teori"
   ]
  },
  {
   "cell_type": "code",
   "execution_count": 43,
   "metadata": {},
   "outputs": [],
   "source": [
    "# load only True data\n",
    "true_data = uber_df[(uber_df.label == 1)]"
   ]
  },
  {
   "cell_type": "code",
   "execution_count": 44,
   "metadata": {},
   "outputs": [
    {
     "data": {
      "image/png": "[encoded data removed]",
      "text/plain": [
       "<Figure size 648x504 with 1 Axes>"
      ]
     },
     "metadata": {},
     "output_type": "display_data"
    }
   ],
   "source": [
    "# plot dist_meter and trip_duratuion in hour\n",
    "plt.figure(figsize=(9, 7))\n",
    "sns.scatterplot(\n",
    "    data=true_data,\n",
    "    x=true_data.dist_meters / 1000,\n",
    "    y=true_data.trip_duration / 3600,\n",
    "    s=100,\n",
    "    alpha=0.85\n",
    ")\n",
    "plt.title(\"Durasi vs Jarak Tempuh Trip True\",\n",
    "    loc=\"right\",\n",
    "    fontweight=\"bold\",\n",
    "    size=15\n",
    ")\n",
    "plt.xlabel(\"km\")\n",
    "plt.ylabel(\"jam\")\n",
    "plt.show()"
   ]
  },
  {
   "cell_type": "code",
   "execution_count": 45,
   "metadata": {},
   "outputs": [
    {
     "data": {
      "text/plain": [
       "count    12775.000000\n",
       "mean        22.965377\n",
       "std          8.437276\n",
       "min          5.537128\n",
       "25%         17.152617\n",
       "50%         21.559863\n",
       "75%         27.313840\n",
       "max         72.048336\n",
       "dtype: float64"
      ]
     },
     "execution_count": 45,
     "metadata": {},
     "output_type": "execute_result"
    }
   ],
   "source": [
    "speed_kmph = (true_data[\"dist_meters\"] / 1000) / (true_data[\"trip_duration\"] / 3600)\n",
    "speed_kmph.describe()"
   ]
  },
  {
   "cell_type": "code",
   "execution_count": 46,
   "metadata": {},
   "outputs": [
    {
     "data": {
      "image/png": "[encoded data removed]",
      "text/plain": [
       "<Figure size 648x504 with 1 Axes>"
      ]
     },
     "metadata": {},
     "output_type": "display_data"
    }
   ],
   "source": [
    "# plot kmph distribution\n",
    "plt.figure(figsize=(9, 7))\n",
    "sns.violinplot(x=speed_kmph)\n",
    "\n",
    "plt.title(\n",
    "    \"Distribusi Kecepatan Rata-Rata Trip True\",\n",
    "    loc=\"right\",\n",
    "    fontweight=\"bold\",\n",
    "    size=15\n",
    ")\n",
    "plt.xlabel(\"km / jam\")\n",
    "plt.show()"
   ]
  },
  {
   "cell_type": "code",
   "execution_count": 47,
   "metadata": {},
   "outputs": [
    {
     "data": {
      "image/png": "[encoded data removed]",
      "text/plain": [
       "<Figure size 648x504 with 1 Axes>"
      ]
     },
     "metadata": {},
     "output_type": "display_data"
    }
   ],
   "source": [
    "# plot wait_sec distribution\n",
    "plt.figure(figsize=(9, 7))\n",
    "sns.violinplot(x=true_data[\"wait_sec\"] / 60)\n",
    "\n",
    "plt.title(\n",
    "    \"Distribusi Waktu Tunggu Driver True\",\n",
    "    loc=\"right\",\n",
    "    fontweight=\"bold\",\n",
    "    size=15\n",
    ")\n",
    "plt.xlabel(\"menit\")\n",
    "plt.show()"
   ]
  },
  {
   "cell_type": "markdown",
   "metadata": {},
   "source": [
    "Data yang valid sudah memenuhi kriteria pada landasan teori seperti kecepatan maksimal adalah 72 km/jam dan waktu maksimal driver untuk menunggu adalah 5 menit"
   ]
  },
  {
   "cell_type": "markdown",
   "metadata": {},
   "source": [
    "## EXPLORATORY DATA ANALYSIS"
   ]
  },
  {
   "cell_type": "code",
   "execution_count": null,
   "metadata": {},
   "outputs": [],
   "source": []
  }
 ],
 "metadata": {
  "kernelspec": {
   "display_name": "Python 3.10.4 ('directml310')",
   "language": "python",
   "name": "python3"
  },
  "language_info": {
   "codemirror_mode": {
    "name": "ipython",
    "version": 3
   },
   "file_extension": ".py",
   "mimetype": "text/x-python",
   "name": "python",
   "nbconvert_exporter": "python",
   "pygments_lexer": "ipython3",
   "version": "3.10.4"
  },
  "orig_nbformat": 4,
  "vscode": {
   "interpreter": {
    "hash": "e8a583a2b953fbef8a75c843262eec54989b605207a7969c58ae2c4ad060d122"
   }
  }
 },
 "nbformat": 4,
 "nbformat_minor": 2
}
