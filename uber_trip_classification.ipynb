{
 "cells": [
  {
   "cell_type": "markdown",
   "metadata": {},
   "source": [
    "# Uber Trip Classification EDA and Modeling\n",
    "\n",
    "Tujuan :\n",
    "* Membuat model yang dapat memprediksi apabila terjadi kesalahan dalam pencatatan data perjalanan Uber.\n",
    "\n",
    "Masalah :\n",
    "* Tidak ada kolom label untuk menjadi target.\n",
    "* Data tanggal tidak ada notasi AM / PM.\n",
    "\n",
    "Landasan Teori :\n",
    "* Dengan asumsi batas kecepatan di kawasan perkotaan adalah 50 km/jam, kawasan permukiman adalah 30 km/jam, kawasan jalanan antar kota paling rendah adalah 60 km/jam dan kecepatan tol dalam kota paling cepat adalah 80 km/jam. ([Kumparan](https://kumparan.com/info-otomotif/batas-kecepatan-untuk-dalam-kota-begini-aturannya-1xvq35hLvXP/3), [Otomotif Kompas](https://otomotif.kompas.com/read/2022/06/20/191100215/batas-kecepatan-berkendara-di-jalan-tol-tidak-semua-sama))\n",
    "* Waktu tunggu maksimal adalah 5 menit. ([therideshareguy](https://therideshareguy.com/uber-extends-wait-time/))\n",
    "\n",
    "\n",
    "Label Feature Description :\n",
    "* 0 = Trip not valid\n",
    "* 1 = Trip valid"
   ]
  },
  {
   "cell_type": "markdown",
   "metadata": {},
   "source": [
    "## Import Libs"
   ]
  },
  {
   "cell_type": "code",
   "execution_count": 2,
   "metadata": {},
   "outputs": [],
   "source": [
    "import os\n",
    "import math\n",
    "import re\n",
    "import pandas as pd\n",
    "from datetime import date, datetime\n",
    "import numpy as np\n",
    "import matplotlib.pyplot as plt\n",
    "import seaborn as sns\n",
    "from geopy.distance import distance\n",
    "from sklearn.preprocessing import StandardScaler\n",
    "import tensorflow as tf\n",
    "from tensorflow.keras.optimizers import Adam\n",
    "from sklearn.metrics import classification_report, f1_score, confusion_matrix\n",
    "from imblearn.combine import SMOTETomek\n",
    "from fast_ml.model_development import train_valid_test_split\n",
    "\n",
    "%matplotlib inline\n",
    "sns.set()"
   ]
  },
  {
   "cell_type": "markdown",
   "metadata": {},
   "source": [
    "## Load Data"
   ]
  },
  {
   "cell_type": "code",
   "execution_count": 3,
   "metadata": {},
   "outputs": [],
   "source": [
    "bog_path = os.path.join(\"dataset\", \"bog_clean.csv\")\n",
    "mex_path = os.path.join(\"dataset\", \"mex_clean.csv\")\n",
    "uio_path = os.path.join(\"dataset\", \"uio_clean.csv\")"
   ]
  },
  {
   "cell_type": "code",
   "execution_count": 4,
   "metadata": {},
   "outputs": [],
   "source": [
    "bog_df = pd.read_csv(bog_path)\n",
    "mex_df = pd.read_csv(mex_path)\n",
    "uio_df = pd.read_csv(uio_path)"
   ]
  },
  {
   "cell_type": "markdown",
   "metadata": {},
   "source": [
    "## Explore Data"
   ]
  },
  {
   "cell_type": "code",
   "execution_count": 5,
   "metadata": {},
   "outputs": [
    {
     "name": "stdout",
     "output_type": "stream",
     "text": [
      "(3063, 12)\n",
      "(12694, 12)\n",
      "(32366, 12)\n"
     ]
    }
   ],
   "source": [
    "print(bog_df.shape)\n",
    "print(mex_df.shape)\n",
    "print(uio_df.shape)"
   ]
  },
  {
   "cell_type": "code",
   "execution_count": 6,
   "metadata": {},
   "outputs": [
    {
     "name": "stdout",
     "output_type": "stream",
     "text": [
      "id : 3063\n",
      "vendor_id : 5\n",
      "store_and_fwd_flag : 1\n"
     ]
    }
   ],
   "source": [
    "# check bog unique value\n",
    "for i in bog_df[[\"id\", \"vendor_id\", \"store_and_fwd_flag\"]] :\n",
    "    print(f\"{i} : {bog_df[i].nunique()}\")"
   ]
  },
  {
   "cell_type": "code",
   "execution_count": 7,
   "metadata": {},
   "outputs": [
    {
     "name": "stdout",
     "output_type": "stream",
     "text": [
      "id : 12694\n",
      "vendor_id : 7\n",
      "store_and_fwd_flag : 1\n"
     ]
    }
   ],
   "source": [
    "# check mex unique value\n",
    "for i in mex_df[[\"id\", \"vendor_id\", \"store_and_fwd_flag\"]] :\n",
    "    print(f\"{i} : {mex_df[i].nunique()}\")"
   ]
  },
  {
   "cell_type": "code",
   "execution_count": 8,
   "metadata": {},
   "outputs": [
    {
     "name": "stdout",
     "output_type": "stream",
     "text": [
      "id : 32366\n",
      "vendor_id : 4\n",
      "store_and_fwd_flag : 1\n"
     ]
    }
   ],
   "source": [
    "# check uio unique value\n",
    "for i in uio_df[[\"id\", \"vendor_id\", \"store_and_fwd_flag\"]] :\n",
    "    print(f\"{i} : {uio_df[i].nunique()}\")"
   ]
  },
  {
   "cell_type": "markdown",
   "metadata": {},
   "source": [
    "Dapat disimpulkan bahwa tidak ada dupilkat dari kolom `id`, `store_and_fwd_flag` hanya memiliki satu nilai unik dan `datetime` masih dalam tipe data objek pada setiap dataset"
   ]
  },
  {
   "cell_type": "code",
   "execution_count": 9,
   "metadata": {},
   "outputs": [],
   "source": [
    "bog_df[\"country\"] = \"colombia\"\n",
    "mex_df[\"country\"] = \"mexico\"\n",
    "uio_df[\"country\"] = \"equador\""
   ]
  },
  {
   "cell_type": "code",
   "execution_count": 10,
   "metadata": {},
   "outputs": [],
   "source": [
    "uber_df = pd.concat([bog_df, mex_df, uio_df], ignore_index=True)"
   ]
  },
  {
   "cell_type": "code",
   "execution_count": 11,
   "metadata": {},
   "outputs": [],
   "source": [
    "uber_df = uber_df.drop([\"id\", \"store_and_fwd_flag\"], axis=1)"
   ]
  },
  {
   "cell_type": "code",
   "execution_count": 12,
   "metadata": {},
   "outputs": [
    {
     "data": {
      "text/html": [
       "<div>\n",
       "<style scoped>\n",
       "    .dataframe tbody tr th:only-of-type {\n",
       "        vertical-align: middle;\n",
       "    }\n",
       "\n",
       "    .dataframe tbody tr th {\n",
       "        vertical-align: top;\n",
       "    }\n",
       "\n",
       "    .dataframe thead th {\n",
       "        text-align: right;\n",
       "    }\n",
       "</style>\n",
       "<table border=\"1\" class=\"dataframe\">\n",
       "  <thead>\n",
       "    <tr style=\"text-align: right;\">\n",
       "      <th></th>\n",
       "      <th>count</th>\n",
       "      <th>mean</th>\n",
       "      <th>std</th>\n",
       "      <th>min</th>\n",
       "      <th>25%</th>\n",
       "      <th>50%</th>\n",
       "      <th>75%</th>\n",
       "      <th>max</th>\n",
       "    </tr>\n",
       "  </thead>\n",
       "  <tbody>\n",
       "    <tr>\n",
       "      <th>pickup_longitude</th>\n",
       "      <td>48123.0</td>\n",
       "      <td>-8.365820e+01</td>\n",
       "      <td>9.327967e+00</td>\n",
       "      <td>-1.089851e+02</td>\n",
       "      <td>-99.055060</td>\n",
       "      <td>-78.499710</td>\n",
       "      <td>-78.477681</td>\n",
       "      <td>-7.382972e+01</td>\n",
       "    </tr>\n",
       "    <tr>\n",
       "      <th>pickup_latitude</th>\n",
       "      <td>48123.0</td>\n",
       "      <td>5.283597e+00</td>\n",
       "      <td>8.522385e+00</td>\n",
       "      <td>-3.454279e+00</td>\n",
       "      <td>-0.198366</td>\n",
       "      <td>-0.149986</td>\n",
       "      <td>19.281108</td>\n",
       "      <td>2.575296e+01</td>\n",
       "    </tr>\n",
       "    <tr>\n",
       "      <th>dropoff_longitude</th>\n",
       "      <td>48123.0</td>\n",
       "      <td>-8.365799e+01</td>\n",
       "      <td>9.326627e+00</td>\n",
       "      <td>-1.089874e+02</td>\n",
       "      <td>-99.040406</td>\n",
       "      <td>-78.498237</td>\n",
       "      <td>-78.479051</td>\n",
       "      <td>-7.361570e+01</td>\n",
       "    </tr>\n",
       "    <tr>\n",
       "      <th>dropoff_latitude</th>\n",
       "      <td>48123.0</td>\n",
       "      <td>5.282378e+00</td>\n",
       "      <td>8.524195e+00</td>\n",
       "      <td>-3.574739e+00</td>\n",
       "      <td>-0.201981</td>\n",
       "      <td>-0.151495</td>\n",
       "      <td>19.279311</td>\n",
       "      <td>2.578106e+01</td>\n",
       "    </tr>\n",
       "    <tr>\n",
       "      <th>trip_duration</th>\n",
       "      <td>48123.0</td>\n",
       "      <td>3.981179e+04</td>\n",
       "      <td>5.155872e+05</td>\n",
       "      <td>-3.887110e+05</td>\n",
       "      <td>497.000000</td>\n",
       "      <td>944.000000</td>\n",
       "      <td>1947.500000</td>\n",
       "      <td>7.002605e+07</td>\n",
       "    </tr>\n",
       "    <tr>\n",
       "      <th>dist_meters</th>\n",
       "      <td>48123.0</td>\n",
       "      <td>-3.774470e+04</td>\n",
       "      <td>1.695578e+07</td>\n",
       "      <td>-2.147484e+09</td>\n",
       "      <td>2032.000000</td>\n",
       "      <td>4133.000000</td>\n",
       "      <td>7880.000000</td>\n",
       "      <td>2.147484e+09</td>\n",
       "    </tr>\n",
       "    <tr>\n",
       "      <th>wait_sec</th>\n",
       "      <td>48123.0</td>\n",
       "      <td>1.519156e+07</td>\n",
       "      <td>6.005287e+08</td>\n",
       "      <td>0.000000e+00</td>\n",
       "      <td>101.000000</td>\n",
       "      <td>244.000000</td>\n",
       "      <td>534.000000</td>\n",
       "      <td>9.516306e+10</td>\n",
       "    </tr>\n",
       "  </tbody>\n",
       "</table>\n",
       "</div>"
      ],
      "text/plain": [
       "                     count          mean           std           min  \\\n",
       "pickup_longitude   48123.0 -8.365820e+01  9.327967e+00 -1.089851e+02   \n",
       "pickup_latitude    48123.0  5.283597e+00  8.522385e+00 -3.454279e+00   \n",
       "dropoff_longitude  48123.0 -8.365799e+01  9.326627e+00 -1.089874e+02   \n",
       "dropoff_latitude   48123.0  5.282378e+00  8.524195e+00 -3.574739e+00   \n",
       "trip_duration      48123.0  3.981179e+04  5.155872e+05 -3.887110e+05   \n",
       "dist_meters        48123.0 -3.774470e+04  1.695578e+07 -2.147484e+09   \n",
       "wait_sec           48123.0  1.519156e+07  6.005287e+08  0.000000e+00   \n",
       "\n",
       "                           25%          50%          75%           max  \n",
       "pickup_longitude    -99.055060   -78.499710   -78.477681 -7.382972e+01  \n",
       "pickup_latitude      -0.198366    -0.149986    19.281108  2.575296e+01  \n",
       "dropoff_longitude   -99.040406   -78.498237   -78.479051 -7.361570e+01  \n",
       "dropoff_latitude     -0.201981    -0.151495    19.279311  2.578106e+01  \n",
       "trip_duration       497.000000   944.000000  1947.500000  7.002605e+07  \n",
       "dist_meters        2032.000000  4133.000000  7880.000000  2.147484e+09  \n",
       "wait_sec            101.000000   244.000000   534.000000  9.516306e+10  "
      ]
     },
     "execution_count": 12,
     "metadata": {},
     "output_type": "execute_result"
    }
   ],
   "source": [
    "uber_df.describe().T"
   ]
  },
  {
   "cell_type": "markdown",
   "metadata": {},
   "source": [
    "Terdapat nilai yang tidak realistis minimal dan maksimal pada `trip_duration`, `dist_meters`, dan `wait_sec\t`"
   ]
  },
  {
   "cell_type": "markdown",
   "metadata": {},
   "source": [
    "### Visualisasi Data\n",
    "\n",
    "Membuat visualisasi untuk menjelaskan sebaran data yang tidak realistis / bermasalah"
   ]
  },
  {
   "cell_type": "code",
   "execution_count": 13,
   "metadata": {},
   "outputs": [
    {
     "data": {
      "image/png": "[encoded data removed]",
      "text/plain": [
       "<Figure size 648x504 with 1 Axes>"
      ]
     },
     "metadata": {},
     "output_type": "display_data"
    }
   ],
   "source": [
    "plt.figure(figsize=(9, 7))\n",
    "sns.scatterplot(\n",
    "    data=uber_df,\n",
    "    x=uber_df.dist_meters/1000,\n",
    "    y=uber_df.trip_duration/3600,\n",
    "    s=100,\n",
    "    alpha=0.85\n",
    ")\n",
    "\n",
    "plt.title(\"Durasi vs Jarak Tempuh Trip\",\n",
    "    loc=\"right\",\n",
    "    fontweight=\"bold\",\n",
    "    size=15\n",
    ")\n",
    "\n",
    "plt.xlabel(\"KM\")\n",
    "plt.ylabel(\"jam\")\n",
    "plt.show()"
   ]
  },
  {
   "cell_type": "markdown",
   "metadata": {},
   "source": [
    "Waktu dan jarak tempuh seharusnya tidak ada yang negatif, waktu tempuh paling lama adalah 1.94e+4 jam, serta jarak tempuh paling lama adalah 2.15e+6 KM."
   ]
  },
  {
   "cell_type": "code",
   "execution_count": 14,
   "metadata": {},
   "outputs": [
    {
     "data": {
      "image/png": "[encoded data removed]",
      "text/plain": [
       "<Figure size 648x504 with 1 Axes>"
      ]
     },
     "metadata": {},
     "output_type": "display_data"
    }
   ],
   "source": [
    "plt.figure(figsize=(9, 7))\n",
    "sns.violinplot(x=uber_df[\"wait_sec\"]/3600)\n",
    "\n",
    "plt.title(\n",
    "    \"Distribusi Waktu Tunggu Driver\",\n",
    "    loc=\"right\",\n",
    "    fontweight=\"bold\",\n",
    "    size=15\n",
    ")\n",
    "plt.xlabel(\"jam\")\n",
    "plt.show()"
   ]
  },
  {
   "cell_type": "markdown",
   "metadata": {},
   "source": [
    "Waktu driver menunggu penumpang juga terlampau lama yaitu 2.6e+7 jam"
   ]
  },
  {
   "cell_type": "code",
   "execution_count": 15,
   "metadata": {},
   "outputs": [
    {
     "data": {
      "text/plain": [
       "count    4.812300e+04\n",
       "mean    -2.554891e+02\n",
       "std      7.592147e+04\n",
       "min     -1.498244e+07\n",
       "25%      9.437383e+00\n",
       "50%      1.642021e+01\n",
       "75%      2.272778e+01\n",
       "max      5.942307e+06\n",
       "dtype: float64"
      ]
     },
     "execution_count": 15,
     "metadata": {},
     "output_type": "execute_result"
    }
   ],
   "source": [
    "# calculate speed in km/h\n",
    "speed_kmph = (uber_df[\"dist_meters\"] / 1000) / (uber_df[\"trip_duration\"] / 3600)\n",
    "speed_kmph.describe()"
   ]
  },
  {
   "cell_type": "code",
   "execution_count": 16,
   "metadata": {},
   "outputs": [
    {
     "data": {
      "image/png": "[encoded data removed]",
      "text/plain": [
       "<Figure size 648x504 with 1 Axes>"
      ]
     },
     "metadata": {},
     "output_type": "display_data"
    }
   ],
   "source": [
    "# plot kmph distribution\n",
    "plt.figure(figsize=(9, 7))\n",
    "sns.violinplot(x=speed_kmph)\n",
    "\n",
    "plt.title(\n",
    "    \"Distribusi Kecepatan Rata-Rata Trip\",\n",
    "    loc=\"right\",\n",
    "    fontweight=\"bold\",\n",
    "    size=15\n",
    ")\n",
    "plt.xlabel(\"km / jam\")\n",
    "plt.show()"
   ]
  },
  {
   "cell_type": "markdown",
   "metadata": {},
   "source": [
    "Kecepatan kendaraan juga terdapat data negatif dan yang paling cepat adalah 5.94e+06"
   ]
  },
  {
   "cell_type": "code",
   "execution_count": 17,
   "metadata": {},
   "outputs": [],
   "source": [
    "# mengubah format date and time\n",
    "uber_df[\"pickup_datetime\"] = pd.to_datetime(uber_df[\"pickup_datetime\"], format=\"%Y/%m/%d %H:%M:%S\")\n",
    "uber_df[\"dropoff_datetime\"] = pd.to_datetime(uber_df[\"dropoff_datetime\"], format=\"%Y/%m/%d %H:%M:%S\")"
   ]
  },
  {
   "cell_type": "code",
   "execution_count": 18,
   "metadata": {},
   "outputs": [
    {
     "name": "stdout",
     "output_type": "stream",
     "text": [
      "pickup & dropoff maximum time is 12:59:59 12:59:59\n",
      "pickup & dropoff minimum time is 01:00:01 01:00:01\n"
     ]
    }
   ],
   "source": [
    "# check max and minimum time\n",
    "print(\"pickup & dropoff maximum time is {} {}\".format(\n",
    "    uber_df[\"pickup_datetime\"].dt.time.max(), \n",
    "    uber_df[\"dropoff_datetime\"].dt.time.max())\n",
    ")\n",
    "\n",
    "print(\"pickup & dropoff minimum time is {} {}\".format(\n",
    "    uber_df[\"pickup_datetime\"].dt.time.min(), \n",
    "    uber_df[\"dropoff_datetime\"].dt.time.min())\n",
    ")"
   ]
  },
  {
   "cell_type": "markdown",
   "metadata": {},
   "source": [
    "Waktu perjalanan saat diterima dan selesai tidak dalam format 24H serta tidak terdapat notasi AM / PM "
   ]
  },
  {
   "cell_type": "markdown",
   "metadata": {},
   "source": [
    "## CLEANING, PREPROCESSING, FEATURE ENGINEERING"
   ]
  },
  {
   "cell_type": "markdown",
   "metadata": {},
   "source": [
    "### *_datetime\n",
    "Menghilangkan time dari tanggal untuk menghindari kesalahan dalam kalkulasi"
   ]
  },
  {
   "cell_type": "code",
   "execution_count": 19,
   "metadata": {},
   "outputs": [],
   "source": [
    "uber_df[\"pickup_date\"] = pd.to_datetime(uber_df[\"pickup_datetime\"]).dt.date\n",
    "uber_df[\"dropoff_date\"] = pd.to_datetime(uber_df[\"dropoff_datetime\"]).dt.date\n",
    "uber_df = uber_df.drop([\"pickup_datetime\", \"dropoff_datetime\"], axis=1)"
   ]
  },
  {
   "cell_type": "markdown",
   "metadata": {},
   "source": [
    "Menghitung lama perjalanan berdasarkan hari"
   ]
  },
  {
   "cell_type": "code",
   "execution_count": 20,
   "metadata": {},
   "outputs": [],
   "source": [
    "def day_delta(df) :\n",
    "    day = []\n",
    "    for i in range(len(df)) :\n",
    "        delta = (df.dropoff_date[i] - df.pickup_date[i]).days\n",
    "        day.append(abs(int(delta)))\n",
    "    return day"
   ]
  },
  {
   "cell_type": "code",
   "execution_count": 21,
   "metadata": {},
   "outputs": [],
   "source": [
    "uber_df[\"day_delta\"] = day_delta(uber_df)"
   ]
  },
  {
   "cell_type": "code",
   "execution_count": 22,
   "metadata": {},
   "outputs": [],
   "source": [
    "uber_df = uber_df.drop([\"pickup_date\", \"dropoff_date\"], axis=1)"
   ]
  },
  {
   "cell_type": "markdown",
   "metadata": {},
   "source": [
    "### est_meters\n",
    "Membuat estimasi jarak menyetir sesungguhnya, bukan jarak antar 2 titik koordinat"
   ]
  },
  {
   "cell_type": "code",
   "execution_count": 23,
   "metadata": {},
   "outputs": [],
   "source": [
    "def geodesic(p_lon, p_lat, d_lon, d_lat) :\n",
    "    # calculate distance using geodesic method\n",
    "    # COEF is a coeficient for calibrating the geodesic result to nearly matches OSRM driving distance\n",
    "    # distance in meters\n",
    "    COEF = 1.5165\n",
    "    pickup = (p_lat, p_lon)\n",
    "    dropoff = (d_lat, d_lon)\n",
    "    result = distance(pickup, dropoff).km\n",
    "    return result * COEF * 1000\n",
    "\n",
    "def distance_estimator(df) :\n",
    "    # calculate the duration then append to est_duration\n",
    "    # using geodesic\n",
    "    # name the estimated distance to est_meters\n",
    "    distance = []\n",
    "    for i in range(len(df)) :\n",
    "        PICKUP_LONG = df.pickup_longitude[i]\n",
    "        PICKUP_LAT = df.pickup_latitude[i]\n",
    "        DROPOFF_LONG = df.dropoff_longitude[i]\n",
    "        DROPOFF_LAT = df.dropoff_latitude[i]\n",
    "        result = geodesic(PICKUP_LONG, PICKUP_LAT, DROPOFF_LONG, DROPOFF_LAT)\n",
    "        distance.append(math.ceil(result))\n",
    "    return distance"
   ]
  },
  {
   "cell_type": "code",
   "execution_count": 24,
   "metadata": {},
   "outputs": [],
   "source": [
    "uber_df[\"est_meters\"] = distance_estimator(uber_df)"
   ]
  },
  {
   "cell_type": "markdown",
   "metadata": {},
   "source": [
    "### est_duration\n",
    "Membuat estimasi durasi perjalanan sesungguhnya\n"
   ]
  },
  {
   "cell_type": "code",
   "execution_count": 25,
   "metadata": {},
   "outputs": [],
   "source": [
    "def duration_estimator(df) :\n",
    "    # rata-rata kecepatan 40 km/h\n",
    "    time = []\n",
    "    v = 40 * (1000/3600) # average speed in m/s\n",
    "    for i in range(len(df)) :\n",
    "        d = df.est_meters[i]\n",
    "        t = d / v # time travel in seconds\n",
    "        time.append(math.ceil(t))\n",
    "    return time"
   ]
  },
  {
   "cell_type": "code",
   "execution_count": 26,
   "metadata": {},
   "outputs": [],
   "source": [
    "uber_df[\"est_duration\"] = duration_estimator(uber_df)"
   ]
  },
  {
   "cell_type": "markdown",
   "metadata": {},
   "source": [
    "### avg_kmph\n",
    "Membuat estimasi rata-rata kecepatan"
   ]
  },
  {
   "cell_type": "code",
   "execution_count": 27,
   "metadata": {},
   "outputs": [],
   "source": [
    "def avg_kmph(df) :\n",
    "    speed = []\n",
    "    for i in range(len(df)) : \n",
    "        METERS = df.dist_meters[i]\n",
    "        DURATION = df.trip_duration[i]\n",
    "        result = (METERS / 1000) / (DURATION / 3600)\n",
    "        speed.append(round(abs(result), 4))\n",
    "    return speed"
   ]
  },
  {
   "cell_type": "code",
   "execution_count": 28,
   "metadata": {},
   "outputs": [],
   "source": [
    "uber_df[\"avg_kmph\"] = avg_kmph(uber_df)"
   ]
  },
  {
   "cell_type": "markdown",
   "metadata": {},
   "source": [
    "### diff_meters & diff_duration\n",
    "Menghitung perbedaan data estimasi dan tercatat"
   ]
  },
  {
   "cell_type": "code",
   "execution_count": 29,
   "metadata": {},
   "outputs": [],
   "source": [
    "def diff(df) :\n",
    "    meters = []\n",
    "    duration = []\n",
    "    for i in range(len(df)) : \n",
    "        EST_METERS = abs(df.est_meters[i])\n",
    "        RECORDED_METERS = abs(df.dist_meters[i])\n",
    "        EST_DURATION = abs(df.est_duration[i])\n",
    "        RECORDED_DURATION = abs(df.trip_duration[i])\n",
    "        result_meters = RECORDED_METERS - EST_METERS\n",
    "        result_duration = RECORDED_DURATION - EST_DURATION\n",
    "        meters.append(abs(result_meters))\n",
    "        duration.append(abs(result_duration))\n",
    "    return meters, duration"
   ]
  },
  {
   "cell_type": "code",
   "execution_count": 30,
   "metadata": {},
   "outputs": [],
   "source": [
    "uber_df[\"diff_meters\"], uber_df[\"diff_duration\"] = diff(uber_df)"
   ]
  },
  {
   "cell_type": "markdown",
   "metadata": {},
   "source": [
    "### vendor_id\n",
    "Menetapkan tipe layanan uber"
   ]
  },
  {
   "cell_type": "code",
   "execution_count": 31,
   "metadata": {},
   "outputs": [
    {
     "data": {
      "text/plain": [
       "array(['Bogotá', 'Bogotá UberX', 'Bogota UberBlack', 'Bogotá UberVan',\n",
       "       'Bogotá UberAngel', 'México DF Taxi de Sitio',\n",
       "       'México DF Taxi Libre', 'México DF Radio Taxi', 'México DF UberX',\n",
       "       'México DF UberXL', 'México DF UberSUV', 'México DF UberBlack',\n",
       "       'Quito', 'Quito Cabify Lite', 'Quito Cabify Executive',\n",
       "       'Quito UberX'], dtype=object)"
      ]
     },
     "execution_count": 31,
     "metadata": {},
     "output_type": "execute_result"
    }
   ],
   "source": [
    "uber_df[\"vendor_id\"].unique()"
   ]
  },
  {
   "cell_type": "markdown",
   "metadata": {},
   "source": [
    "Terdapat beberapa nama layanan yang tidak tersedia pada laman website uber akan dijadikan taxi dan sisanya akan disesuaikan dengan layanan ekivalennya"
   ]
  },
  {
   "cell_type": "code",
   "execution_count": 32,
   "metadata": {},
   "outputs": [],
   "source": [
    "def services_extractor(df) :\n",
    "    # extract services name from vendor_id and map the services based in 2022\n",
    "    # some normal services is not available in 2022, it'll be taxi service instead\n",
    "    # uberangel is exclusive to colombia, it'll be uberblack service instead\n",
    "    # ubersuv will be uberxl\n",
    "    SERVICE_NAME = re.compile(\n",
    "        r\"taxi|uberxl|uberx|uberblack|ubervan|uberangel|ubersuv\"\n",
    "    )\n",
    "    df[\"vendor_id\"] = df[\"vendor_id\"].str.lower()\n",
    "    service = []\n",
    "    for i in range(len(df)) :\n",
    "        extract = SERVICE_NAME.search(df.vendor_id[i])\n",
    "        if extract != None :\n",
    "            ext_group = extract.group()\n",
    "            if (ext_group  == \"ubervan\") or (ext_group == \"ubersuv\"):\n",
    "                service.append(\"uberxl\")\n",
    "            elif ext_group == \"uberangel\" :\n",
    "                service.append(\"uberblack\")\n",
    "            else : \n",
    "                service.append(ext_group)\n",
    "        else :\n",
    "            service.append(\"taxi\")\n",
    "    return service"
   ]
  },
  {
   "cell_type": "code",
   "execution_count": 33,
   "metadata": {},
   "outputs": [],
   "source": [
    "uber_df[\"service\"] = services_extractor(uber_df)"
   ]
  },
  {
   "cell_type": "code",
   "execution_count": 34,
   "metadata": {},
   "outputs": [
    {
     "data": {
      "text/plain": [
       "array(['taxi', 'uberx', 'uberblack', 'uberxl'], dtype=object)"
      ]
     },
     "execution_count": 34,
     "metadata": {},
     "output_type": "execute_result"
    }
   ],
   "source": [
    "uber_df[\"service\"].unique()"
   ]
  },
  {
   "cell_type": "code",
   "execution_count": 35,
   "metadata": {},
   "outputs": [],
   "source": [
    "uber_df = uber_df.drop(\"vendor_id\", axis=1)"
   ]
  },
  {
   "cell_type": "markdown",
   "metadata": {},
   "source": [
    "## DEFINE TARGET VARIABLE / LABELING\n",
    "Dalam project Uber Trip Classification bertujuan untuk melakukan prediksi terhadap kesalahan aplikasi saat menyimpan data perjalanan yang diakibatkan driver lupa mengakhiri perjalanan pada aplikasi, dan mengakibatkan kesalahan dalam penagihan harga kepada customer.\n",
    "\n",
    "Variabel `est_meters`, `est_duration` dapat dijadikan pembanding kebenaran terhadap variabel `dist_meters` dan `trip_duration` yang terdapat kesalahan dalam peyimpanan.\n",
    "\n",
    "Perbandingan menggunakan batas atas dan batas bawah yang terdiri dari toleransi perjalanan lebih lama atau lebih cepat yang diakibatkan oleh kecepatan mobil dan keadaan lalu lintas yang tidak menentu, batas waktu driver menunggu adalah 5 menit, minimal jarak perjalanan yang dianggap valid adalah 1 KM, serta perjalanan yang terhitung 1 hari mungkin valid apabila terjadi sekitar tengah malam, tetapi >= 2 hari sudah pasti tidak valid."
   ]
  },
  {
   "cell_type": "code",
   "execution_count": 36,
   "metadata": {},
   "outputs": [],
   "source": [
    "def labeler(df) :\n",
    "    label = []\n",
    "    DIST_MIN = 1000\n",
    "    WT = 5 * 60\n",
    "    for i in range(len(df)) :\n",
    "        DLB = df.est_meters[i] * 0.8 # might be closer\n",
    "        DHB = df.est_meters[i] * 1.5 # might be further\n",
    "        TLB = df.est_duration[i] * 0.6667 # might be faster (~ 40 km/h - 60 km/h)\n",
    "        THB = df.est_duration[i] * 4 * 1.5 # might be slower (~ 10 km/h - 40 km/h) and 50% longer\n",
    "        DD = df.day_delta[i]\n",
    "        if DD > 1 :\n",
    "            label.append(0)\n",
    "        elif (df.est_meters[i] < DIST_MIN) or (df.wait_sec[i] > WT): \n",
    "            label.append(0)\n",
    "        elif (df.dist_meters[i] > DLB) and (df.dist_meters[i] < DHB) :\n",
    "            if (df.trip_duration[i] > TLB) and (df.trip_duration[i] < THB) :\n",
    "                label.append(1)\n",
    "            else :\n",
    "                label.append(0)\n",
    "        else :\n",
    "            label.append(0)\n",
    "    return label"
   ]
  },
  {
   "cell_type": "code",
   "execution_count": 37,
   "metadata": {},
   "outputs": [],
   "source": [
    "uber_df[\"label\"] = labeler(uber_df)"
   ]
  },
  {
   "cell_type": "code",
   "execution_count": 38,
   "metadata": {},
   "outputs": [
    {
     "name": "stdout",
     "output_type": "stream",
     "text": [
      "label 0 : 35348\n",
      "label 1 : 12775\n"
     ]
    }
   ],
   "source": [
    "for i in range(uber_df[\"label\"].nunique()) :\n",
    "    print(\"label {} : {}\".format(i, list(uber_df[\"label\"].values).count(i)))"
   ]
  },
  {
   "cell_type": "code",
   "execution_count": 39,
   "metadata": {},
   "outputs": [
    {
     "data": {
      "image/png": "[encoded data removed]",
      "text/plain": [
       "<Figure size 648x504 with 1 Axes>"
      ]
     },
     "metadata": {},
     "output_type": "display_data"
    }
   ],
   "source": [
    "plt.figure(figsize=(9, 7))\n",
    "sns.countplot(\n",
    "    x= \"label\",\n",
    "    data= uber_df\n",
    ")\n",
    "\n",
    "plt.title(\"Distribusi Label\",\n",
    "    loc=\"center\",\n",
    "    fontweight=\"bold\",\n",
    "    size=15\n",
    ")\n",
    "\n",
    "plt.show()"
   ]
  },
  {
   "cell_type": "markdown",
   "metadata": {},
   "source": [
    "### Re-check Labeling Logic Reliability\n",
    "Cek kembali apakah hasil dari labeling sudah sesuai dengan landasan teori"
   ]
  },
  {
   "cell_type": "code",
   "execution_count": 40,
   "metadata": {},
   "outputs": [],
   "source": [
    "# load only True data\n",
    "true_data = uber_df[(uber_df.label == 1)]"
   ]
  },
  {
   "cell_type": "code",
   "execution_count": 41,
   "metadata": {},
   "outputs": [
    {
     "data": {
      "image/png": "[encoded data removed]",
      "text/plain": [
       "<Figure size 648x504 with 1 Axes>"
      ]
     },
     "metadata": {},
     "output_type": "display_data"
    }
   ],
   "source": [
    "# plot dist_meter and trip_duratuion in hour\n",
    "plt.figure(figsize=(9, 7))\n",
    "sns.scatterplot(\n",
    "    data=true_data,\n",
    "    x=true_data.dist_meters / 1000,\n",
    "    y=true_data.trip_duration / 3600,\n",
    "    s=100,\n",
    "    alpha=0.85\n",
    ")\n",
    "plt.title(\"Durasi vs Jarak Tempuh Trip True\",\n",
    "    loc=\"right\",\n",
    "    fontweight=\"bold\",\n",
    "    size=15\n",
    ")\n",
    "plt.xlabel(\"km\")\n",
    "plt.ylabel(\"jam\")\n",
    "plt.show()"
   ]
  },
  {
   "cell_type": "code",
   "execution_count": 42,
   "metadata": {},
   "outputs": [
    {
     "data": {
      "text/plain": [
       "count    12775.000000\n",
       "mean        22.965377\n",
       "std          8.437277\n",
       "min          5.537100\n",
       "25%         17.152600\n",
       "50%         21.559900\n",
       "75%         27.313850\n",
       "max         72.048300\n",
       "Name: avg_kmph, dtype: float64"
      ]
     },
     "execution_count": 42,
     "metadata": {},
     "output_type": "execute_result"
    }
   ],
   "source": [
    "true_data.avg_kmph.describe()"
   ]
  },
  {
   "cell_type": "code",
   "execution_count": 43,
   "metadata": {},
   "outputs": [
    {
     "data": {
      "image/png": "[encoded data removed]",
      "text/plain": [
       "<Figure size 648x504 with 1 Axes>"
      ]
     },
     "metadata": {},
     "output_type": "display_data"
    }
   ],
   "source": [
    "# plot kmph distribution\n",
    "plt.figure(figsize=(9, 7))\n",
    "sns.violinplot(x=true_data.avg_kmph)\n",
    "\n",
    "plt.title(\n",
    "    \"Distribusi Kecepatan Rata-Rata Trip True\",\n",
    "    loc=\"right\",\n",
    "    fontweight=\"bold\",\n",
    "    size=15\n",
    ")\n",
    "plt.xlabel(\"km / jam\")\n",
    "plt.show()"
   ]
  },
  {
   "cell_type": "code",
   "execution_count": 44,
   "metadata": {},
   "outputs": [
    {
     "data": {
      "image/png": "[encoded data removed]",
      "text/plain": [
       "<Figure size 648x504 with 1 Axes>"
      ]
     },
     "metadata": {},
     "output_type": "display_data"
    }
   ],
   "source": [
    "# plot wait_sec distribution\n",
    "plt.figure(figsize=(9, 7))\n",
    "sns.violinplot(x=true_data[\"wait_sec\"] / 60)\n",
    "\n",
    "plt.title(\n",
    "    \"Distribusi Waktu Tunggu Driver True\",\n",
    "    loc=\"right\",\n",
    "    fontweight=\"bold\",\n",
    "    size=15\n",
    ")\n",
    "plt.xlabel(\"menit\")\n",
    "plt.show()"
   ]
  },
  {
   "cell_type": "markdown",
   "metadata": {},
   "source": [
    "Data yang valid sudah memenuhi kriteria pada landasan teori seperti kecepatan maksimal adalah 72 km/jam dibawah batas maksimal kecepatan tol dalam kota dan waktu maksimal driver untuk menunggu tidak lebih dari 5 menit"
   ]
  },
  {
   "cell_type": "markdown",
   "metadata": {},
   "source": [
    "### Missing Value Checking"
   ]
  },
  {
   "cell_type": "code",
   "execution_count": 45,
   "metadata": {},
   "outputs": [
    {
     "data": {
      "text/plain": [
       "Series([], dtype: float64)"
      ]
     },
     "execution_count": 45,
     "metadata": {},
     "output_type": "execute_result"
    }
   ],
   "source": [
    "check_missing = uber_df.isnull().sum() * 100 / uber_df.shape[0]\n",
    "check_missing[check_missing > 0].sort_values(ascending=False)"
   ]
  },
  {
   "cell_type": "markdown",
   "metadata": {},
   "source": [
    "Tidak ada data yang hilang / tidak sesuai jadi tidak perlu ditindaklanjuti"
   ]
  },
  {
   "cell_type": "markdown",
   "metadata": {},
   "source": [
    "### Correlation Check"
   ]
  },
  {
   "cell_type": "code",
   "execution_count": 46,
   "metadata": {},
   "outputs": [
    {
     "data": {
      "image/png": "[encoded data removed]",
      "text/plain": [
       "<Figure size 1008x504 with 2 Axes>"
      ]
     },
     "metadata": {},
     "output_type": "display_data"
    }
   ],
   "source": [
    "plt.figure(figsize=(14,7))\n",
    "sns.heatmap(uber_df.corr(), annot=True, cmap=\"YlGnBu\", mask=np.triu(uber_df.corr()))\n",
    "plt.show()"
   ]
  },
  {
   "cell_type": "markdown",
   "metadata": {},
   "source": [
    "Tidak ada feature yang berkorelasi kuat terhadap label"
   ]
  },
  {
   "cell_type": "markdown",
   "metadata": {},
   "source": [
    "## FEATURE SCALING AND TRANSFORMATION"
   ]
  },
  {
   "cell_type": "markdown",
   "metadata": {},
   "source": [
    "### One Hot Encoding"
   ]
  },
  {
   "cell_type": "code",
   "execution_count": 71,
   "metadata": {},
   "outputs": [],
   "source": [
    "categorical_cols = uber_df.select_dtypes(include='object').columns.tolist()\n",
    "ohe = pd.get_dummies(uber_df[categorical_cols])"
   ]
  },
  {
   "cell_type": "code",
   "execution_count": 72,
   "metadata": {},
   "outputs": [
    {
     "data": {
      "text/html": [
       "<div>\n",
       "<style scoped>\n",
       "    .dataframe tbody tr th:only-of-type {\n",
       "        vertical-align: middle;\n",
       "    }\n",
       "\n",
       "    .dataframe tbody tr th {\n",
       "        vertical-align: top;\n",
       "    }\n",
       "\n",
       "    .dataframe thead th {\n",
       "        text-align: right;\n",
       "    }\n",
       "</style>\n",
       "<table border=\"1\" class=\"dataframe\">\n",
       "  <thead>\n",
       "    <tr style=\"text-align: right;\">\n",
       "      <th></th>\n",
       "      <th>country_colombia</th>\n",
       "      <th>country_equador</th>\n",
       "      <th>country_mexico</th>\n",
       "      <th>service_taxi</th>\n",
       "      <th>service_uberblack</th>\n",
       "      <th>service_uberx</th>\n",
       "      <th>service_uberxl</th>\n",
       "    </tr>\n",
       "  </thead>\n",
       "  <tbody>\n",
       "    <tr>\n",
       "      <th>0</th>\n",
       "      <td>1</td>\n",
       "      <td>0</td>\n",
       "      <td>0</td>\n",
       "      <td>1</td>\n",
       "      <td>0</td>\n",
       "      <td>0</td>\n",
       "      <td>0</td>\n",
       "    </tr>\n",
       "    <tr>\n",
       "      <th>1</th>\n",
       "      <td>1</td>\n",
       "      <td>0</td>\n",
       "      <td>0</td>\n",
       "      <td>1</td>\n",
       "      <td>0</td>\n",
       "      <td>0</td>\n",
       "      <td>0</td>\n",
       "    </tr>\n",
       "    <tr>\n",
       "      <th>2</th>\n",
       "      <td>1</td>\n",
       "      <td>0</td>\n",
       "      <td>0</td>\n",
       "      <td>1</td>\n",
       "      <td>0</td>\n",
       "      <td>0</td>\n",
       "      <td>0</td>\n",
       "    </tr>\n",
       "    <tr>\n",
       "      <th>3</th>\n",
       "      <td>1</td>\n",
       "      <td>0</td>\n",
       "      <td>0</td>\n",
       "      <td>1</td>\n",
       "      <td>0</td>\n",
       "      <td>0</td>\n",
       "      <td>0</td>\n",
       "    </tr>\n",
       "    <tr>\n",
       "      <th>4</th>\n",
       "      <td>1</td>\n",
       "      <td>0</td>\n",
       "      <td>0</td>\n",
       "      <td>1</td>\n",
       "      <td>0</td>\n",
       "      <td>0</td>\n",
       "      <td>0</td>\n",
       "    </tr>\n",
       "  </tbody>\n",
       "</table>\n",
       "</div>"
      ],
      "text/plain": [
       "   country_colombia  country_equador  country_mexico  service_taxi  \\\n",
       "0                 1                0               0             1   \n",
       "1                 1                0               0             1   \n",
       "2                 1                0               0             1   \n",
       "3                 1                0               0             1   \n",
       "4                 1                0               0             1   \n",
       "\n",
       "   service_uberblack  service_uberx  service_uberxl  \n",
       "0                  0              0               0  \n",
       "1                  0              0               0  \n",
       "2                  0              0               0  \n",
       "3                  0              0               0  \n",
       "4                  0              0               0  "
      ]
     },
     "execution_count": 72,
     "metadata": {},
     "output_type": "execute_result"
    }
   ],
   "source": [
    "ohe.head()"
   ]
  },
  {
   "cell_type": "code",
   "execution_count": 73,
   "metadata": {},
   "outputs": [],
   "source": [
    "model_data = pd.concat([uber_df.drop(categorical_cols, axis=1), ohe], axis=1)"
   ]
  },
  {
   "cell_type": "markdown",
   "metadata": {},
   "source": [
    "### Data Split"
   ]
  },
  {
   "cell_type": "code",
   "execution_count": 74,
   "metadata": {},
   "outputs": [],
   "source": [
    "X_train, y_train, X_valid, y_valid, X_test, y_test = train_valid_test_split(model_data, target = 'label', \n",
    "                                                                            train_size=0.7, valid_size=0.2, test_size=0.1, random_state=42)"
   ]
  },
  {
   "cell_type": "markdown",
   "metadata": {},
   "source": [
    "### Standardization"
   ]
  },
  {
   "cell_type": "code",
   "execution_count": 75,
   "metadata": {},
   "outputs": [],
   "source": [
    "numerical_cols = [col for col in X_train.columns.tolist() if col not in ohe.columns.tolist() + ['label']]"
   ]
  },
  {
   "cell_type": "code",
   "execution_count": 86,
   "metadata": {},
   "outputs": [],
   "source": [
    "scaler = StandardScaler()\n",
    "X_train_sc = scaler.fit_transform(X_train[numerical_cols])\n",
    "X_valid_sc= scaler.fit_transform(X_valid[numerical_cols])\n",
    "X_test_sc= scaler.fit_transform(X_test[numerical_cols])"
   ]
  },
  {
   "cell_type": "code",
   "execution_count": 100,
   "metadata": {},
   "outputs": [],
   "source": [
    "X_train[numerical_cols] = X_train_sc\n",
    "X_valid[numerical_cols] = X_valid_sc\n",
    "X_test[numerical_cols] = X_test_sc"
   ]
  },
  {
   "cell_type": "code",
   "execution_count": 102,
   "metadata": {},
   "outputs": [
    {
     "data": {
      "text/html": [
       "<div>\n",
       "<style scoped>\n",
       "    .dataframe tbody tr th:only-of-type {\n",
       "        vertical-align: middle;\n",
       "    }\n",
       "\n",
       "    .dataframe tbody tr th {\n",
       "        vertical-align: top;\n",
       "    }\n",
       "\n",
       "    .dataframe thead th {\n",
       "        text-align: right;\n",
       "    }\n",
       "</style>\n",
       "<table border=\"1\" class=\"dataframe\">\n",
       "  <thead>\n",
       "    <tr style=\"text-align: right;\">\n",
       "      <th></th>\n",
       "      <th>pickup_longitude</th>\n",
       "      <th>pickup_latitude</th>\n",
       "      <th>dropoff_longitude</th>\n",
       "      <th>dropoff_latitude</th>\n",
       "      <th>trip_duration</th>\n",
       "      <th>dist_meters</th>\n",
       "      <th>wait_sec</th>\n",
       "      <th>day_delta</th>\n",
       "      <th>est_meters</th>\n",
       "      <th>est_duration</th>\n",
       "      <th>avg_kmph</th>\n",
       "      <th>diff_meters</th>\n",
       "      <th>diff_duration</th>\n",
       "      <th>country_colombia</th>\n",
       "      <th>country_equador</th>\n",
       "      <th>country_mexico</th>\n",
       "      <th>service_taxi</th>\n",
       "      <th>service_uberblack</th>\n",
       "      <th>service_uberx</th>\n",
       "      <th>service_uberxl</th>\n",
       "    </tr>\n",
       "  </thead>\n",
       "  <tbody>\n",
       "    <tr>\n",
       "      <th>7438</th>\n",
       "      <td>-1.666793</td>\n",
       "      <td>1.656888</td>\n",
       "      <td>-1.667569</td>\n",
       "      <td>1.653734</td>\n",
       "      <td>-0.073564</td>\n",
       "      <td>0.007539</td>\n",
       "      <td>-0.022753</td>\n",
       "      <td>-0.073271</td>\n",
       "      <td>-0.104210</td>\n",
       "      <td>-0.103757</td>\n",
       "      <td>-0.006518</td>\n",
       "      <td>-0.007864</td>\n",
       "      <td>-0.073480</td>\n",
       "      <td>0</td>\n",
       "      <td>0</td>\n",
       "      <td>1</td>\n",
       "      <td>1</td>\n",
       "      <td>0</td>\n",
       "      <td>0</td>\n",
       "      <td>0</td>\n",
       "    </tr>\n",
       "    <tr>\n",
       "      <th>6879</th>\n",
       "      <td>-1.666377</td>\n",
       "      <td>1.664803</td>\n",
       "      <td>-1.660248</td>\n",
       "      <td>1.662944</td>\n",
       "      <td>-0.068525</td>\n",
       "      <td>0.008621</td>\n",
       "      <td>-0.022751</td>\n",
       "      <td>-0.073271</td>\n",
       "      <td>0.428716</td>\n",
       "      <td>0.429136</td>\n",
       "      <td>-0.006657</td>\n",
       "      <td>-0.007131</td>\n",
       "      <td>-0.069305</td>\n",
       "      <td>0</td>\n",
       "      <td>0</td>\n",
       "      <td>1</td>\n",
       "      <td>1</td>\n",
       "      <td>0</td>\n",
       "      <td>0</td>\n",
       "      <td>0</td>\n",
       "    </tr>\n",
       "    <tr>\n",
       "      <th>26528</th>\n",
       "      <td>0.547504</td>\n",
       "      <td>-0.652140</td>\n",
       "      <td>0.547726</td>\n",
       "      <td>-0.654096</td>\n",
       "      <td>-0.073450</td>\n",
       "      <td>0.007482</td>\n",
       "      <td>-0.022753</td>\n",
       "      <td>-0.073271</td>\n",
       "      <td>-0.206662</td>\n",
       "      <td>-0.206653</td>\n",
       "      <td>-0.006659</td>\n",
       "      <td>-0.007870</td>\n",
       "      <td>-0.073199</td>\n",
       "      <td>0</td>\n",
       "      <td>1</td>\n",
       "      <td>0</td>\n",
       "      <td>1</td>\n",
       "      <td>0</td>\n",
       "      <td>0</td>\n",
       "      <td>0</td>\n",
       "    </tr>\n",
       "    <tr>\n",
       "      <th>17698</th>\n",
       "      <td>0.553149</td>\n",
       "      <td>-0.637661</td>\n",
       "      <td>0.553024</td>\n",
       "      <td>-0.637396</td>\n",
       "      <td>0.030499</td>\n",
       "      <td>0.008270</td>\n",
       "      <td>-0.022753</td>\n",
       "      <td>0.078357</td>\n",
       "      <td>-0.492962</td>\n",
       "      <td>-0.492596</td>\n",
       "      <td>-0.006930</td>\n",
       "      <td>-0.006910</td>\n",
       "      <td>0.031231</td>\n",
       "      <td>0</td>\n",
       "      <td>1</td>\n",
       "      <td>0</td>\n",
       "      <td>1</td>\n",
       "      <td>0</td>\n",
       "      <td>0</td>\n",
       "      <td>0</td>\n",
       "    </tr>\n",
       "    <tr>\n",
       "      <th>10984</th>\n",
       "      <td>-1.673655</td>\n",
       "      <td>1.647991</td>\n",
       "      <td>-1.673670</td>\n",
       "      <td>1.649044</td>\n",
       "      <td>-0.071557</td>\n",
       "      <td>0.007879</td>\n",
       "      <td>-0.022753</td>\n",
       "      <td>-0.073271</td>\n",
       "      <td>-0.345864</td>\n",
       "      <td>-0.346375</td>\n",
       "      <td>-0.006675</td>\n",
       "      <td>-0.007392</td>\n",
       "      <td>-0.071079</td>\n",
       "      <td>0</td>\n",
       "      <td>0</td>\n",
       "      <td>1</td>\n",
       "      <td>1</td>\n",
       "      <td>0</td>\n",
       "      <td>0</td>\n",
       "      <td>0</td>\n",
       "    </tr>\n",
       "  </tbody>\n",
       "</table>\n",
       "</div>"
      ],
      "text/plain": [
       "       pickup_longitude  pickup_latitude  dropoff_longitude  dropoff_latitude  \\\n",
       "7438          -1.666793         1.656888          -1.667569          1.653734   \n",
       "6879          -1.666377         1.664803          -1.660248          1.662944   \n",
       "26528          0.547504        -0.652140           0.547726         -0.654096   \n",
       "17698          0.553149        -0.637661           0.553024         -0.637396   \n",
       "10984         -1.673655         1.647991          -1.673670          1.649044   \n",
       "\n",
       "       trip_duration  dist_meters  wait_sec  day_delta  est_meters  \\\n",
       "7438       -0.073564     0.007539 -0.022753  -0.073271   -0.104210   \n",
       "6879       -0.068525     0.008621 -0.022751  -0.073271    0.428716   \n",
       "26528      -0.073450     0.007482 -0.022753  -0.073271   -0.206662   \n",
       "17698       0.030499     0.008270 -0.022753   0.078357   -0.492962   \n",
       "10984      -0.071557     0.007879 -0.022753  -0.073271   -0.345864   \n",
       "\n",
       "       est_duration  avg_kmph  diff_meters  diff_duration  country_colombia  \\\n",
       "7438      -0.103757 -0.006518    -0.007864      -0.073480                 0   \n",
       "6879       0.429136 -0.006657    -0.007131      -0.069305                 0   \n",
       "26528     -0.206653 -0.006659    -0.007870      -0.073199                 0   \n",
       "17698     -0.492596 -0.006930    -0.006910       0.031231                 0   \n",
       "10984     -0.346375 -0.006675    -0.007392      -0.071079                 0   \n",
       "\n",
       "       country_equador  country_mexico  service_taxi  service_uberblack  \\\n",
       "7438                 0               1             1                  0   \n",
       "6879                 0               1             1                  0   \n",
       "26528                1               0             1                  0   \n",
       "17698                1               0             1                  0   \n",
       "10984                0               1             1                  0   \n",
       "\n",
       "       service_uberx  service_uberxl  \n",
       "7438               0               0  \n",
       "6879               0               0  \n",
       "26528              0               0  \n",
       "17698              0               0  \n",
       "10984              0               0  "
      ]
     },
     "execution_count": 102,
     "metadata": {},
     "output_type": "execute_result"
    }
   ],
   "source": [
    "X_train.head()"
   ]
  },
  {
   "cell_type": "markdown",
   "metadata": {},
   "source": [
    "### Class Balancing"
   ]
  },
  {
   "cell_type": "code",
   "execution_count": 103,
   "metadata": {},
   "outputs": [],
   "source": [
    "oversample = SMOTETomek(random_state = 42)\n",
    "X_train, y_train = oversample.fit_resample(X_train, y_train)"
   ]
  },
  {
   "cell_type": "code",
   "execution_count": 106,
   "metadata": {},
   "outputs": [
    {
     "data": {
      "image/png": "[encoded data removed]",
      "text/plain": [
       "<Figure size 648x504 with 1 Axes>"
      ]
     },
     "metadata": {},
     "output_type": "display_data"
    }
   ],
   "source": [
    "plt.figure(figsize=(9, 7))\n",
    "sns.countplot(\n",
    "    x= y_train,\n",
    "    data= X_train\n",
    ")\n",
    "\n",
    "plt.title(\"Distribusi Label Training\",\n",
    "    loc=\"center\",\n",
    "    fontweight=\"bold\",\n",
    "    size=15\n",
    ")\n",
    "plt.show()"
   ]
  },
  {
   "cell_type": "markdown",
   "metadata": {},
   "source": [
    "## Machine Learning Model"
   ]
  },
  {
   "cell_type": "markdown",
   "metadata": {},
   "source": [
    "### Neural Network"
   ]
  },
  {
   "cell_type": "code",
   "execution_count": 107,
   "metadata": {},
   "outputs": [],
   "source": [
    "# Set memory limiter for each GPU\n",
    "gpus = tf.config.experimental.list_physical_devices('GPU')\n",
    "if gpus:\n",
    "    try:\n",
    "        for gpu in gpus:\n",
    "            tf.config.experimental.set_memory_growth(gpu, True)\n",
    "    except RuntimeError as e:\n",
    "        print(e)"
   ]
  }
 ],
 "metadata": {
  "kernelspec": {
   "display_name": "Python 3.10.4 ('directml310')",
   "language": "python",
   "name": "python3"
  },
  "language_info": {
   "codemirror_mode": {
    "name": "ipython",
    "version": 3
   },
   "file_extension": ".py",
   "mimetype": "text/x-python",
   "name": "python",
   "nbconvert_exporter": "python",
   "pygments_lexer": "ipython3",
   "version": "3.10.4"
  },
  "orig_nbformat": 4,
  "vscode": {
   "interpreter": {
    "hash": "e8a583a2b953fbef8a75c843262eec54989b605207a7969c58ae2c4ad060d122"
   }
  }
 },
 "nbformat": 4,
 "nbformat_minor": 2
}
