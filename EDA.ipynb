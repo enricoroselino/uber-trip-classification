{
 "cells": [
  {
   "cell_type": "markdown",
   "metadata": {},
   "source": [
    "# Uber Trip Classification\n",
    "\n",
    "Tujuan :\n",
    "* Membuat model yang dapat memprediksi apabila terjadi kesalahan dalam pencatatan data perjalanan Uber.\n",
    "\n",
    "Masalah :\n",
    "* Tidak ada kolom label untuk menjadi target.\n",
    "* Data tanggal tidak ada notasi AM / PM.\n",
    "\n",
    "Landasan Teori :\n",
    "* Dengan asumsi batas kecepatan di kawasan perkotaan adalah 50 km/jam, kawasan permukiman adalah 30 km/jam dan kawasan jalanan antar kota paling rendah adalah 60 km/jam. [Kumparan](https://kumparan.com/info-otomotif/batas-kecepatan-untuk-dalam-kota-begini-aturannya-1xvq35hLvXP/3)\n",
    "\n",
    "\n",
    "Label Feature Description :\n",
    "* 0 = False\n",
    "* 1 = True"
   ]
  },
  {
   "cell_type": "markdown",
   "metadata": {},
   "source": [
    "## Import Libs"
   ]
  },
  {
   "cell_type": "code",
   "execution_count": 9,
   "metadata": {},
   "outputs": [],
   "source": [
    "import pandas as pd\n",
    "import os\n",
    "from datetime import date, datetime\n",
    "import matplotlib.pyplot as plt\n",
    "import seaborn as sns\n",
    "\n",
    "%matplotlib inline\n",
    "sns.set()"
   ]
  },
  {
   "cell_type": "markdown",
   "metadata": {},
   "source": [
    "## Load Data"
   ]
  },
  {
   "cell_type": "code",
   "execution_count": 2,
   "metadata": {},
   "outputs": [],
   "source": [
    "path = os.path.join(\"dataset\", \"all-data_clean.csv\")"
   ]
  },
  {
   "cell_type": "code",
   "execution_count": 3,
   "metadata": {},
   "outputs": [],
   "source": [
    "uber_df = pd.read_csv(path) "
   ]
  },
  {
   "cell_type": "markdown",
   "metadata": {},
   "source": [
    "## Explore Data"
   ]
  },
  {
   "cell_type": "code",
   "execution_count": 4,
   "metadata": {},
   "outputs": [
    {
     "data": {
      "text/html": [
       "<div>\n",
       "<style scoped>\n",
       "    .dataframe tbody tr th:only-of-type {\n",
       "        vertical-align: middle;\n",
       "    }\n",
       "\n",
       "    .dataframe tbody tr th {\n",
       "        vertical-align: top;\n",
       "    }\n",
       "\n",
       "    .dataframe thead th {\n",
       "        text-align: right;\n",
       "    }\n",
       "</style>\n",
       "<table border=\"1\" class=\"dataframe\">\n",
       "  <thead>\n",
       "    <tr style=\"text-align: right;\">\n",
       "      <th></th>\n",
       "      <th>id</th>\n",
       "      <th>vendor_id</th>\n",
       "      <th>pickup_datetime</th>\n",
       "      <th>dropoff_datetime</th>\n",
       "      <th>pickup_longitude</th>\n",
       "      <th>pickup_latitude</th>\n",
       "      <th>dropoff_longitude</th>\n",
       "      <th>dropoff_latitude</th>\n",
       "      <th>store_and_fwd_flag</th>\n",
       "      <th>trip_duration</th>\n",
       "      <th>dist_meters</th>\n",
       "      <th>wait_sec</th>\n",
       "    </tr>\n",
       "  </thead>\n",
       "  <tbody>\n",
       "    <tr>\n",
       "      <th>0</th>\n",
       "      <td>1</td>\n",
       "      <td>Quito</td>\n",
       "      <td>2016-09-17 09:32:06</td>\n",
       "      <td>2016-09-17 10:05:51</td>\n",
       "      <td>0.632055</td>\n",
       "      <td>0.528947</td>\n",
       "      <td>-78.549447</td>\n",
       "      <td>-0.361363</td>\n",
       "      <td>N</td>\n",
       "      <td>2025</td>\n",
       "      <td>24228</td>\n",
       "      <td>346</td>\n",
       "    </tr>\n",
       "    <tr>\n",
       "      <th>1</th>\n",
       "      <td>2</td>\n",
       "      <td>Guadalajara Easy Taxi</td>\n",
       "      <td>2016-09-17 09:59:54</td>\n",
       "      <td>2016-09-17 10:06:23</td>\n",
       "      <td>0.327804</td>\n",
       "      <td>0.391950</td>\n",
       "      <td>-103.366600</td>\n",
       "      <td>20.686971</td>\n",
       "      <td>N</td>\n",
       "      <td>389</td>\n",
       "      <td>2962</td>\n",
       "      <td>3675</td>\n",
       "    </tr>\n",
       "    <tr>\n",
       "      <th>2</th>\n",
       "      <td>3</td>\n",
       "      <td>Monterrey</td>\n",
       "      <td>2016-09-17 10:06:52</td>\n",
       "      <td>2016-09-17 10:09:40</td>\n",
       "      <td>0.140910</td>\n",
       "      <td>0.563280</td>\n",
       "      <td>-100.165737</td>\n",
       "      <td>25.619387</td>\n",
       "      <td>N</td>\n",
       "      <td>168</td>\n",
       "      <td>951</td>\n",
       "      <td>0</td>\n",
       "    </tr>\n",
       "    <tr>\n",
       "      <th>3</th>\n",
       "      <td>4</td>\n",
       "      <td>Monterrey</td>\n",
       "      <td>2016-09-17 09:45:56</td>\n",
       "      <td>2016-09-17 10:13:34</td>\n",
       "      <td>0.207565</td>\n",
       "      <td>0.590416</td>\n",
       "      <td>-100.491721</td>\n",
       "      <td>25.676294</td>\n",
       "      <td>N</td>\n",
       "      <td>1659</td>\n",
       "      <td>11082</td>\n",
       "      <td>358</td>\n",
       "    </tr>\n",
       "    <tr>\n",
       "      <th>4</th>\n",
       "      <td>5</td>\n",
       "      <td>Monterrey</td>\n",
       "      <td>2016-09-17 10:12:00</td>\n",
       "      <td>2016-09-17 10:16:31</td>\n",
       "      <td>0.128881</td>\n",
       "      <td>0.580419</td>\n",
       "      <td>-100.104166</td>\n",
       "      <td>25.643862</td>\n",
       "      <td>N</td>\n",
       "      <td>272</td>\n",
       "      <td>2021</td>\n",
       "      <td>3614</td>\n",
       "    </tr>\n",
       "  </tbody>\n",
       "</table>\n",
       "</div>"
      ],
      "text/plain": [
       "   id              vendor_id      pickup_datetime     dropoff_datetime  \\\n",
       "0   1                  Quito  2016-09-17 09:32:06  2016-09-17 10:05:51   \n",
       "1   2  Guadalajara Easy Taxi  2016-09-17 09:59:54  2016-09-17 10:06:23   \n",
       "2   3              Monterrey  2016-09-17 10:06:52  2016-09-17 10:09:40   \n",
       "3   4              Monterrey  2016-09-17 09:45:56  2016-09-17 10:13:34   \n",
       "4   5              Monterrey  2016-09-17 10:12:00  2016-09-17 10:16:31   \n",
       "\n",
       "   pickup_longitude  pickup_latitude  dropoff_longitude  dropoff_latitude  \\\n",
       "0          0.632055         0.528947         -78.549447         -0.361363   \n",
       "1          0.327804         0.391950        -103.366600         20.686971   \n",
       "2          0.140910         0.563280        -100.165737         25.619387   \n",
       "3          0.207565         0.590416        -100.491721         25.676294   \n",
       "4          0.128881         0.580419        -100.104166         25.643862   \n",
       "\n",
       "  store_and_fwd_flag  trip_duration  dist_meters  wait_sec  \n",
       "0                  N           2025        24228       346  \n",
       "1                  N            389         2962      3675  \n",
       "2                  N            168          951         0  \n",
       "3                  N           1659        11082       358  \n",
       "4                  N            272         2021      3614  "
      ]
     },
     "execution_count": 4,
     "metadata": {},
     "output_type": "execute_result"
    }
   ],
   "source": [
    "uber_df.head()"
   ]
  },
  {
   "cell_type": "code",
   "execution_count": 5,
   "metadata": {},
   "outputs": [
    {
     "name": "stdout",
     "output_type": "stream",
     "text": [
      "<class 'pandas.core.frame.DataFrame'>\n",
      "RangeIndex: 90287 entries, 0 to 90286\n",
      "Data columns (total 12 columns):\n",
      " #   Column              Non-Null Count  Dtype  \n",
      "---  ------              --------------  -----  \n",
      " 0   id                  90287 non-null  int64  \n",
      " 1   vendor_id           90287 non-null  object \n",
      " 2   pickup_datetime     90287 non-null  object \n",
      " 3   dropoff_datetime    90287 non-null  object \n",
      " 4   pickup_longitude    90287 non-null  float64\n",
      " 5   pickup_latitude     90287 non-null  float64\n",
      " 6   dropoff_longitude   90287 non-null  float64\n",
      " 7   dropoff_latitude    90287 non-null  float64\n",
      " 8   store_and_fwd_flag  90287 non-null  object \n",
      " 9   trip_duration       90287 non-null  int64  \n",
      " 10  dist_meters         90287 non-null  int64  \n",
      " 11  wait_sec            90287 non-null  int64  \n",
      "dtypes: float64(4), int64(4), object(4)\n",
      "memory usage: 8.3+ MB\n"
     ]
    }
   ],
   "source": [
    "uber_df.info()"
   ]
  },
  {
   "cell_type": "code",
   "execution_count": 6,
   "metadata": {},
   "outputs": [
    {
     "name": "stdout",
     "output_type": "stream",
     "text": [
      "id : 90287\n",
      "vendor_id : 139\n",
      "store_and_fwd_flag : 1\n"
     ]
    }
   ],
   "source": [
    "# check unique value\n",
    "for i in uber_df[[\"id\", \"vendor_id\", \"store_and_fwd_flag\"]] :\n",
    "    print(f\"{i} : {uber_df[i].nunique()}\")"
   ]
  },
  {
   "cell_type": "markdown",
   "metadata": {},
   "source": [
    "Dapat disimpulkan bahwa tidak ada dupilkat dari kolom `id`, `store_and_fwd_flag` hanya memiliki 1 nilai unik dan data tanggal masih dalam tipe data objek"
   ]
  },
  {
   "cell_type": "code",
   "execution_count": 7,
   "metadata": {},
   "outputs": [],
   "source": [
    "uber_df = uber_df.drop([\"id\", \"store_and_fwd_flag\"], axis=1)"
   ]
  },
  {
   "cell_type": "code",
   "execution_count": 8,
   "metadata": {},
   "outputs": [
    {
     "data": {
      "text/html": [
       "<div>\n",
       "<style scoped>\n",
       "    .dataframe tbody tr th:only-of-type {\n",
       "        vertical-align: middle;\n",
       "    }\n",
       "\n",
       "    .dataframe tbody tr th {\n",
       "        vertical-align: top;\n",
       "    }\n",
       "\n",
       "    .dataframe thead th {\n",
       "        text-align: right;\n",
       "    }\n",
       "</style>\n",
       "<table border=\"1\" class=\"dataframe\">\n",
       "  <thead>\n",
       "    <tr style=\"text-align: right;\">\n",
       "      <th></th>\n",
       "      <th>count</th>\n",
       "      <th>mean</th>\n",
       "      <th>std</th>\n",
       "      <th>min</th>\n",
       "      <th>25%</th>\n",
       "      <th>50%</th>\n",
       "      <th>75%</th>\n",
       "      <th>max</th>\n",
       "    </tr>\n",
       "  </thead>\n",
       "  <tbody>\n",
       "    <tr>\n",
       "      <th>pickup_longitude</th>\n",
       "      <td>90287.0</td>\n",
       "      <td>4.001300e-01</td>\n",
       "      <td>2.308011e-01</td>\n",
       "      <td>8.983153e-06</td>\n",
       "      <td>0.200113</td>\n",
       "      <td>0.400801</td>\n",
       "      <td>0.600672</td>\n",
       "      <td>7.994377e-01</td>\n",
       "    </tr>\n",
       "    <tr>\n",
       "      <th>pickup_latitude</th>\n",
       "      <td>90287.0</td>\n",
       "      <td>3.991268e-01</td>\n",
       "      <td>2.308110e-01</td>\n",
       "      <td>8.983153e-06</td>\n",
       "      <td>0.199008</td>\n",
       "      <td>0.398292</td>\n",
       "      <td>0.599134</td>\n",
       "      <td>7.992232e-01</td>\n",
       "    </tr>\n",
       "    <tr>\n",
       "      <th>dropoff_longitude</th>\n",
       "      <td>90287.0</td>\n",
       "      <td>-8.711470e+01</td>\n",
       "      <td>1.275267e+01</td>\n",
       "      <td>-1.233418e+02</td>\n",
       "      <td>-100.162537</td>\n",
       "      <td>-79.023126</td>\n",
       "      <td>-78.484563</td>\n",
       "      <td>1.748119e+02</td>\n",
       "    </tr>\n",
       "    <tr>\n",
       "      <th>dropoff_latitude</th>\n",
       "      <td>90287.0</td>\n",
       "      <td>9.000339e+00</td>\n",
       "      <td>1.254712e+01</td>\n",
       "      <td>-5.315816e+01</td>\n",
       "      <td>-0.203951</td>\n",
       "      <td>4.562602</td>\n",
       "      <td>21.839787</td>\n",
       "      <td>6.032165e+01</td>\n",
       "    </tr>\n",
       "    <tr>\n",
       "      <th>trip_duration</th>\n",
       "      <td>90287.0</td>\n",
       "      <td>3.505614e+04</td>\n",
       "      <td>8.947615e+05</td>\n",
       "      <td>-2.207486e+08</td>\n",
       "      <td>493.000000</td>\n",
       "      <td>933.000000</td>\n",
       "      <td>1924.500000</td>\n",
       "      <td>7.696342e+07</td>\n",
       "    </tr>\n",
       "    <tr>\n",
       "      <th>dist_meters</th>\n",
       "      <td>90287.0</td>\n",
       "      <td>1.751764e+05</td>\n",
       "      <td>2.370332e+07</td>\n",
       "      <td>-2.147484e+09</td>\n",
       "      <td>2278.000000</td>\n",
       "      <td>4668.000000</td>\n",
       "      <td>8872.000000</td>\n",
       "      <td>2.147484e+09</td>\n",
       "    </tr>\n",
       "    <tr>\n",
       "      <th>wait_sec</th>\n",
       "      <td>90287.0</td>\n",
       "      <td>9.637481e+06</td>\n",
       "      <td>4.497338e+08</td>\n",
       "      <td>0.000000e+00</td>\n",
       "      <td>88.000000</td>\n",
       "      <td>214.000000</td>\n",
       "      <td>484.000000</td>\n",
       "      <td>9.516306e+10</td>\n",
       "    </tr>\n",
       "  </tbody>\n",
       "</table>\n",
       "</div>"
      ],
      "text/plain": [
       "                     count          mean           std           min  \\\n",
       "pickup_longitude   90287.0  4.001300e-01  2.308011e-01  8.983153e-06   \n",
       "pickup_latitude    90287.0  3.991268e-01  2.308110e-01  8.983153e-06   \n",
       "dropoff_longitude  90287.0 -8.711470e+01  1.275267e+01 -1.233418e+02   \n",
       "dropoff_latitude   90287.0  9.000339e+00  1.254712e+01 -5.315816e+01   \n",
       "trip_duration      90287.0  3.505614e+04  8.947615e+05 -2.207486e+08   \n",
       "dist_meters        90287.0  1.751764e+05  2.370332e+07 -2.147484e+09   \n",
       "wait_sec           90287.0  9.637481e+06  4.497338e+08  0.000000e+00   \n",
       "\n",
       "                           25%          50%          75%           max  \n",
       "pickup_longitude      0.200113     0.400801     0.600672  7.994377e-01  \n",
       "pickup_latitude       0.199008     0.398292     0.599134  7.992232e-01  \n",
       "dropoff_longitude  -100.162537   -79.023126   -78.484563  1.748119e+02  \n",
       "dropoff_latitude     -0.203951     4.562602    21.839787  6.032165e+01  \n",
       "trip_duration       493.000000   933.000000  1924.500000  7.696342e+07  \n",
       "dist_meters        2278.000000  4668.000000  8872.000000  2.147484e+09  \n",
       "wait_sec             88.000000   214.000000   484.000000  9.516306e+10  "
      ]
     },
     "execution_count": 8,
     "metadata": {},
     "output_type": "execute_result"
    }
   ],
   "source": [
    "uber_df.describe().T"
   ]
  },
  {
   "cell_type": "markdown",
   "metadata": {},
   "source": [
    "Terdapat nilai yang tidak realistis minimal dan maksimal pada `trip_duration`, `dist_meters`, dan `wait_sec\t`"
   ]
  },
  {
   "cell_type": "code",
   "execution_count": 16,
   "metadata": {},
   "outputs": [
    {
     "data": {
      "image/png": "[encoded data removed]",
      "text/plain": [
       "<Figure size 648x504 with 1 Axes>"
      ]
     },
     "metadata": {},
     "output_type": "display_data"
    }
   ],
   "source": [
    "plt.figure(figsize=(9, 7))\n",
    "sns.scatterplot(\n",
    "    data=uber_df,\n",
    "    x=\"dist_meters\",\n",
    "    y=uber_df.trip_duration/3600,\n",
    "    s=100,\n",
    "    alpha=0.85\n",
    ")\n",
    "\n",
    "plt.title(\"Durasi vs Jarak Tempuh Trip\",\n",
    "    loc=\"right\",\n",
    "    fontweight=\"bold\",\n",
    "    size=15\n",
    ")\n",
    "\n",
    "plt.xlabel(\"meter\")\n",
    "plt.ylabel(\"jam\");"
   ]
  },
  {
   "cell_type": "markdown",
   "metadata": {},
   "source": [
    "Dapat dilihat bahwa terdapat beberapa data yang terletak sangat jauh dari sebaran data mayoritas/yang benar (tengah). Data yang sangat jauh tersebut merupakan data yang salah di-record oleh apps, sehingga merupakan trip yang False."
   ]
  },
  {
   "cell_type": "code",
   "execution_count": 18,
   "metadata": {},
   "outputs": [
    {
     "data": {
      "image/png": "[encoded data removed]",
      "text/plain": [
       "<Figure size 648x504 with 1 Axes>"
      ]
     },
     "metadata": {},
     "output_type": "display_data"
    }
   ],
   "source": [
    "plt.figure(figsize=(9, 7))\n",
    "sns.violinplot(x=uber_df[\"wait_sec\"]/3600)\n",
    "\n",
    "plt.title(\n",
    "    \"Distribusi Waktu Tunggu Driver\",\n",
    "    loc=\"right\",\n",
    "    fontweight=\"bold\",\n",
    "    size=15\n",
    ")\n",
    "plt.xlabel(\"jam\");"
   ]
  },
  {
   "cell_type": "markdown",
   "metadata": {},
   "source": [
    "## CLEANING, PREPROCESSING, FEATURE ENGINEERING"
   ]
  },
  {
   "cell_type": "markdown",
   "metadata": {},
   "source": [
    "### date time"
   ]
  },
  {
   "cell_type": "code",
   "execution_count": null,
   "metadata": {},
   "outputs": [],
   "source": [
    "# mengubah format date and time\n",
    "uber_df[\"pickup_datetime\"] = pd.to_datetime(uber_df[\"pickup_datetime\"], format=\"%Y/%m/%d %H:%M:%S\")\n",
    "uber_df[\"dropoff_datetime\"] = pd.to_datetime(uber_df[\"dropoff_datetime\"], format=\"%Y/%m/%d %H:%M:%S\")"
   ]
  }
 ],
 "metadata": {
  "kernelspec": {
   "display_name": "Python 3.10.4 ('directml310')",
   "language": "python",
   "name": "python3"
  },
  "language_info": {
   "codemirror_mode": {
    "name": "ipython",
    "version": 3
   },
   "file_extension": ".py",
   "mimetype": "text/x-python",
   "name": "python",
   "nbconvert_exporter": "python",
   "pygments_lexer": "ipython3",
   "version": "3.10.4"
  },
  "orig_nbformat": 4,
  "vscode": {
   "interpreter": {
    "hash": "e8a583a2b953fbef8a75c843262eec54989b605207a7969c58ae2c4ad060d122"
   }
  }
 },
 "nbformat": 4,
 "nbformat_minor": 2
}
