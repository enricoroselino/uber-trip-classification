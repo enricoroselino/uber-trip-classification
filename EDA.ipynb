{
 "cells": [
  {
   "cell_type": "markdown",
   "metadata": {},
   "source": [
    "# Uber Trip Classification"
   ]
  },
  {
   "cell_type": "markdown",
   "metadata": {},
   "source": [
    "## Import Libs"
   ]
  },
  {
   "cell_type": "code",
   "execution_count": 2,
   "metadata": {},
   "outputs": [],
   "source": [
    "import pandas as pd\n",
    "import os"
   ]
  },
  {
   "cell_type": "markdown",
   "metadata": {},
   "source": [
    "## Load data"
   ]
  },
  {
   "cell_type": "code",
   "execution_count": 7,
   "metadata": {},
   "outputs": [],
   "source": [
    "path = os.path.join(\"dataset\", \"all-data_clean.csv\")"
   ]
  },
  {
   "cell_type": "code",
   "execution_count": 9,
   "metadata": {},
   "outputs": [],
   "source": [
    "uber_df = pd.read_csv(path) "
   ]
  },
  {
   "cell_type": "markdown",
   "metadata": {},
   "source": [
    "## Explore Data"
   ]
  },
  {
   "cell_type": "code",
   "execution_count": 10,
   "metadata": {},
   "outputs": [
    {
     "data": {
      "text/html": [
       "<div>\n",
       "<style scoped>\n",
       "    .dataframe tbody tr th:only-of-type {\n",
       "        vertical-align: middle;\n",
       "    }\n",
       "\n",
       "    .dataframe tbody tr th {\n",
       "        vertical-align: top;\n",
       "    }\n",
       "\n",
       "    .dataframe thead th {\n",
       "        text-align: right;\n",
       "    }\n",
       "</style>\n",
       "<table border=\"1\" class=\"dataframe\">\n",
       "  <thead>\n",
       "    <tr style=\"text-align: right;\">\n",
       "      <th></th>\n",
       "      <th>id</th>\n",
       "      <th>vendor_id</th>\n",
       "      <th>pickup_datetime</th>\n",
       "      <th>dropoff_datetime</th>\n",
       "      <th>pickup_longitude</th>\n",
       "      <th>pickup_latitude</th>\n",
       "      <th>dropoff_longitude</th>\n",
       "      <th>dropoff_latitude</th>\n",
       "      <th>store_and_fwd_flag</th>\n",
       "      <th>trip_duration</th>\n",
       "      <th>dist_meters</th>\n",
       "      <th>wait_sec</th>\n",
       "    </tr>\n",
       "  </thead>\n",
       "  <tbody>\n",
       "    <tr>\n",
       "      <th>0</th>\n",
       "      <td>1</td>\n",
       "      <td>Quito</td>\n",
       "      <td>2016-09-17 09:32:06</td>\n",
       "      <td>2016-09-17 10:05:51</td>\n",
       "      <td>0.632055</td>\n",
       "      <td>0.528947</td>\n",
       "      <td>-78.549447</td>\n",
       "      <td>-0.361363</td>\n",
       "      <td>N</td>\n",
       "      <td>2025</td>\n",
       "      <td>24228</td>\n",
       "      <td>346</td>\n",
       "    </tr>\n",
       "    <tr>\n",
       "      <th>1</th>\n",
       "      <td>2</td>\n",
       "      <td>Guadalajara Easy Taxi</td>\n",
       "      <td>2016-09-17 09:59:54</td>\n",
       "      <td>2016-09-17 10:06:23</td>\n",
       "      <td>0.327804</td>\n",
       "      <td>0.391950</td>\n",
       "      <td>-103.366600</td>\n",
       "      <td>20.686971</td>\n",
       "      <td>N</td>\n",
       "      <td>389</td>\n",
       "      <td>2962</td>\n",
       "      <td>3675</td>\n",
       "    </tr>\n",
       "    <tr>\n",
       "      <th>2</th>\n",
       "      <td>3</td>\n",
       "      <td>Monterrey</td>\n",
       "      <td>2016-09-17 10:06:52</td>\n",
       "      <td>2016-09-17 10:09:40</td>\n",
       "      <td>0.140910</td>\n",
       "      <td>0.563280</td>\n",
       "      <td>-100.165737</td>\n",
       "      <td>25.619387</td>\n",
       "      <td>N</td>\n",
       "      <td>168</td>\n",
       "      <td>951</td>\n",
       "      <td>0</td>\n",
       "    </tr>\n",
       "    <tr>\n",
       "      <th>3</th>\n",
       "      <td>4</td>\n",
       "      <td>Monterrey</td>\n",
       "      <td>2016-09-17 09:45:56</td>\n",
       "      <td>2016-09-17 10:13:34</td>\n",
       "      <td>0.207565</td>\n",
       "      <td>0.590416</td>\n",
       "      <td>-100.491721</td>\n",
       "      <td>25.676294</td>\n",
       "      <td>N</td>\n",
       "      <td>1659</td>\n",
       "      <td>11082</td>\n",
       "      <td>358</td>\n",
       "    </tr>\n",
       "    <tr>\n",
       "      <th>4</th>\n",
       "      <td>5</td>\n",
       "      <td>Monterrey</td>\n",
       "      <td>2016-09-17 10:12:00</td>\n",
       "      <td>2016-09-17 10:16:31</td>\n",
       "      <td>0.128881</td>\n",
       "      <td>0.580419</td>\n",
       "      <td>-100.104166</td>\n",
       "      <td>25.643862</td>\n",
       "      <td>N</td>\n",
       "      <td>272</td>\n",
       "      <td>2021</td>\n",
       "      <td>3614</td>\n",
       "    </tr>\n",
       "  </tbody>\n",
       "</table>\n",
       "</div>"
      ],
      "text/plain": [
       "   id              vendor_id      pickup_datetime     dropoff_datetime  \\\n",
       "0   1                  Quito  2016-09-17 09:32:06  2016-09-17 10:05:51   \n",
       "1   2  Guadalajara Easy Taxi  2016-09-17 09:59:54  2016-09-17 10:06:23   \n",
       "2   3              Monterrey  2016-09-17 10:06:52  2016-09-17 10:09:40   \n",
       "3   4              Monterrey  2016-09-17 09:45:56  2016-09-17 10:13:34   \n",
       "4   5              Monterrey  2016-09-17 10:12:00  2016-09-17 10:16:31   \n",
       "\n",
       "   pickup_longitude  pickup_latitude  dropoff_longitude  dropoff_latitude  \\\n",
       "0          0.632055         0.528947         -78.549447         -0.361363   \n",
       "1          0.327804         0.391950        -103.366600         20.686971   \n",
       "2          0.140910         0.563280        -100.165737         25.619387   \n",
       "3          0.207565         0.590416        -100.491721         25.676294   \n",
       "4          0.128881         0.580419        -100.104166         25.643862   \n",
       "\n",
       "  store_and_fwd_flag  trip_duration  dist_meters  wait_sec  \n",
       "0                  N           2025        24228       346  \n",
       "1                  N            389         2962      3675  \n",
       "2                  N            168          951         0  \n",
       "3                  N           1659        11082       358  \n",
       "4                  N            272         2021      3614  "
      ]
     },
     "execution_count": 10,
     "metadata": {},
     "output_type": "execute_result"
    }
   ],
   "source": [
    "uber_df.head()"
   ]
  }
 ],
 "metadata": {
  "kernelspec": {
   "display_name": "Python 3.10.4 ('directml310')",
   "language": "python",
   "name": "python3"
  },
  "language_info": {
   "codemirror_mode": {
    "name": "ipython",
    "version": 3
   },
   "file_extension": ".py",
   "mimetype": "text/x-python",
   "name": "python",
   "nbconvert_exporter": "python",
   "pygments_lexer": "ipython3",
   "version": "3.10.4"
  },
  "orig_nbformat": 4,
  "vscode": {
   "interpreter": {
    "hash": "e8a583a2b953fbef8a75c843262eec54989b605207a7969c58ae2c4ad060d122"
   }
  }
 },
 "nbformat": 4,
 "nbformat_minor": 2
}
